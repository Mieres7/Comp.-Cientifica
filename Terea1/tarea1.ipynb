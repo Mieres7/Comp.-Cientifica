{
 "cells": [
  {
   "cell_type": "code",
   "execution_count": 102,
   "metadata": {},
   "outputs": [],
   "source": [
    "import numpy as np\n",
    "import cupy as cp\n",
    "from matplotlib import pyplot as plt\n",
    "\n",
    "use_gpu = False  # Cambiar a False si no tienes GPU o CuPy instalado\n",
    "array_lib = cp if use_gpu else np"
   ]
  },
  {
   "cell_type": "markdown",
   "metadata": {},
   "source": [
    "# Consideraciones inciales.\n",
    "\n",
    "### Funcion para construir la grilla inicial"
   ]
  },
  {
   "cell_type": "code",
   "execution_count": 103,
   "metadata": {},
   "outputs": [],
   "source": [
    "# Función que construye la grilla inicial\n",
    "\n",
    "def create_grid(d, grid_size, m, pattern='random'):\n",
    "    \"\"\"\n",
    "    Crea una grilla n-dimensional\n",
    "    \n",
    "    Parámetros:\n",
    "    - d: número de dimensiones\n",
    "    - grid_size: tamaño de cada dimensión (int o lista de int)\n",
    "    - m: valor máximo de estado (estados van de 0 a m + 1)\n",
    "    - pattern: tipo de patrón inicial ('random', 'central', etc.)\n",
    "    \"\"\"\n",
    "    # Convertir grid_size a una tupla si es un solo número\n",
    "    if isinstance(grid_size, int):\n",
    "        grid_size = tuple([grid_size] * d)\n",
    "    else:\n",
    "        grid_size = tuple(grid_size)\n",
    "    \n",
    "    # Crear la grilla según el patrón solicitado\n",
    "    if pattern == 'random':\n",
    "        # Grilla con valores aleatorios entre 0 y m\n",
    "        return array_lib.random.randint(0, m+1, grid_size)\n",
    "    \n",
    "    elif pattern == 'central':\n",
    "        # Grilla con valor alto en el centro y ceros alrededor\n",
    "        grid = array_lib.zeros(grid_size, dtype=int)\n",
    "        center = tuple(s // 2 for s in grid_size)\n",
    "        \n",
    "        # Colocar valor m en el centro\n",
    "        indices = tuple(slice(c-1, c+2) for c in center)\n",
    "        grid[indices] = m\n",
    "        return grid\n",
    "    \n",
    "    elif pattern == 'checkerboard':\n",
    "        # Patrón de tablero de ajedrez\n",
    "        indices = array_lib.indices(grid_size)\n",
    "        sum_indices = array_lib.sum(indices, axis=0)\n",
    "        return (sum_indices % 2) * m\n",
    "    \n",
    "    else:\n",
    "        # Patrón predeterminado: valores 0\n",
    "        return array_lib.zeros(grid_size, dtype=int)\n",
    "    \n"
   ]
  },
  {
   "cell_type": "markdown",
   "metadata": {},
   "source": [
    "### Valores inciales"
   ]
  },
  {
   "cell_type": "code",
   "execution_count": 104,
   "metadata": {},
   "outputs": [],
   "source": [
    "d = 4  # 3 dimensiones de la grilla\n",
    "grid_size = 3  # Tamaño de los arreglos\n",
    "m = 3  # Estados posibles por casilla\n",
    "r = 1 # Radio de vecindad\n",
    "grid = create_grid(d, grid_size, m, pattern='random') # Grilla inicial\n",
    "\n",
    "t = 10 # Tiempo\n"
   ]
  },
  {
   "cell_type": "code",
   "execution_count": null,
   "metadata": {},
   "outputs": [
    {
     "data": {
      "text/plain": [
       "array([[[[3, 1, 2],\n",
       "         [1, 3, 2],\n",
       "         [1, 2, 3]],\n",
       "\n",
       "        [[1, 3, 1],\n",
       "         [2, 3, 3],\n",
       "         [2, 2, 1]],\n",
       "\n",
       "        [[3, 1, 3],\n",
       "         [2, 2, 2],\n",
       "         [3, 3, 3]]],\n",
       "\n",
       "\n",
       "       [[[3, 2, 2],\n",
       "         [3, 3, 1],\n",
       "         [3, 3, 1]],\n",
       "\n",
       "        [[2, 1, 2],\n",
       "         [2, 3, 3],\n",
       "         [3, 2, 1]],\n",
       "\n",
       "        [[3, 1, 1],\n",
       "         [1, 3, 3],\n",
       "         [3, 3, 3]]],\n",
       "\n",
       "\n",
       "       [[[3, 1, 3],\n",
       "         [3, 1, 3],\n",
       "         [1, 2, 2]],\n",
       "\n",
       "        [[3, 3, 1],\n",
       "         [2, 3, 1],\n",
       "         [3, 2, 1]],\n",
       "\n",
       "        [[3, 1, 3],\n",
       "         [2, 3, 3],\n",
       "         [3, 3, 2]]]], dtype=int32)"
      ]
     },
     "execution_count": 105,
     "metadata": {},
     "output_type": "execute_result"
    }
   ],
   "source": [
    "# https://chatgpt.com/c/67e5c856-0f34-8004-b18b-c3cc71f6a27a\n",
    "\n",
    "def evolucionar_grilla(grilla, m, r):\n",
    "    \"\"\"\n",
    "    Evoluciona la grilla de un autómata celular en d dimensiones sin usar bucles.\n",
    "    \n",
    "    Parámetros:\n",
    "    - grilla: ndarray de numpy o cupy con la configuración actual.\n",
    "    - m: Número máximo de estados por celda.\n",
    "    - r: Radio de vecindad.\n",
    "    \n",
    "    Retorna:\n",
    "    - Nueva grilla evolucionada según las reglas del autómata.\n",
    "    \"\"\"  # Determina si estamos usando numpy o cupy\n",
    "    \n",
    "    # Expandir la grilla en un toroide (bordes periódicos)\n",
    "    grilla_expandida = np.pad(grilla, r, mode='wrap')\n",
    "    \n",
    "    # Construir el kernel para calcular la suma de vecinos\n",
    "    kernel_shape = (2 * r + 1,) * grilla.ndim  # Vecindad cúbica de radio r\n",
    "    kernel = np.ones(kernel_shape, dtype=grilla.dtype)\n",
    "    kernel[(slice(r, r+1),) * grilla.ndim] = 0  # Excluir la celda central\n",
    "    \n",
    "    # Convolución para obtener la suma de vecinos\n",
    "    from cupyx.scipy.ndimage import convolve as cp_convolve\n",
    "    from scipy.ndimage import convolve as np_convolve\n",
    "    \n",
    "    convolve = cp_convolve if np is cp else np_convolve\n",
    "    suma_vecinos = convolve(grilla_expandida, kernel, mode='constant', cval=0)\n",
    "    \n",
    "    # Extraer la parte válida de la convolución\n",
    "    slices = tuple(slice(r, -r) for _ in range(grilla.ndim))\n",
    "    suma_vecinos = suma_vecinos[slices]\n",
    "    \n",
    "    # Aplicar las reglas de evolución\n",
    "    SM = m * (kernel.sum() - 1)  # Valor máximo de suma de vecinos\n",
    "    intervalos = np.linspace(0, SM, 4)  # Dividimos en 3 intervalos\n",
    "    \n",
    "    nueva_grilla = np.copy(grilla)\n",
    "    nueva_grilla[(suma_vecinos >= intervalos[0]) & (suma_vecinos < intervalos[1])] -= 1\n",
    "    nueva_grilla[(suma_vecinos >= intervalos[1]) & (suma_vecinos < intervalos[2])] += 1\n",
    "    nueva_grilla[(suma_vecinos >= intervalos[2])] -= 1\n",
    "    \n",
    "    return np.clip(nueva_grilla, 0, m)  # Asegurar valores en [0, m]\n",
    "\n",
    "\n",
    "grilla = evolucionar_grilla(grid, m, r)\n",
    "\n",
    "grilla\n",
    "\n"
   ]
  },
  {
   "cell_type": "markdown",
   "metadata": {},
   "source": [
    "### Funciones principales"
   ]
  },
  {
   "cell_type": "markdown",
   "metadata": {},
   "source": [
    "### Pasos a seguir\n",
    "\n",
    "1. for exterior -> paso del tiempo, por cada tick hace algo\n",
    "    \n",
    "    ¿Que hace? \n",
    "\n",
    "    a. Saca las otras celdas que pertenezcan a la vecindad\n",
    "\n",
    "    b. Suma todos los valores \n",
    "\n",
    "    c. Se verifica con el intervalo si se + - o mantiene el valor de la celda\n"
   ]
  },
  {
   "cell_type": "code",
   "execution_count": null,
   "metadata": {},
   "outputs": [],
   "source": []
  }
 ],
 "metadata": {
  "kernelspec": {
   "display_name": "Python 3",
   "language": "python",
   "name": "python3"
  },
  "language_info": {
   "codemirror_mode": {
    "name": "ipython",
    "version": 3
   },
   "file_extension": ".py",
   "mimetype": "text/x-python",
   "name": "python",
   "nbconvert_exporter": "python",
   "pygments_lexer": "ipython3",
   "version": "3.10.0"
  }
 },
 "nbformat": 4,
 "nbformat_minor": 2
}
