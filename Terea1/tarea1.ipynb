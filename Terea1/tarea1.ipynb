{
 "cells": [
  {
   "cell_type": "code",
   "execution_count": 143,
   "metadata": {},
   "outputs": [],
   "source": [
    "import numpy as np\n",
    "# import cupy as cp\n",
    "from matplotlib import pyplot as plt\n",
    "\n",
    "\n",
    "use_gpu = False  # Cambiar a False si no tienes GPU o CuPy instalado\n",
    "# np} = cp if use_gpu else np"
   ]
  },
  {
   "cell_type": "markdown",
   "metadata": {},
   "source": [
    "# Consideraciones inciales.\n",
    "\n",
    "### Funcion para construir la grilla inicial"
   ]
  },
  {
   "cell_type": "code",
   "execution_count": 144,
   "metadata": {},
   "outputs": [],
   "source": [
    "# Función que construye la grilla inicial\n",
    "\n",
    "def create_grid(d, grid_size, m, pattern='random'):\n",
    "    \"\"\"\n",
    "    Crea una grilla n-dimensional\n",
    "    \n",
    "    Parámetros:\n",
    "    - d: número de dimensiones\n",
    "    - grid_size: tamaño de cada dimensión (int o lista de int)\n",
    "    - m: valor máximo de estado (estados van de 0 a m + 1)\n",
    "    - pattern: tipo de patrón inicial ('random', 'central', etc.)\n",
    "    \"\"\"\n",
    "    # Convertir grid_size a una tupla si es un solo número\n",
    "    if isinstance(grid_size, int):\n",
    "        grid_size = tuple([grid_size] * d)\n",
    "    else:\n",
    "        grid_size = tuple(grid_size)\n",
    "    \n",
    "    # Crear la grilla según el patrón solicitado\n",
    "    if pattern == 'random':\n",
    "        # Grilla con valores aleatorios entre 0 y m\n",
    "        return np.random.randint(0, m+1, grid_size)\n",
    "    \n",
    "    elif pattern == 'central':\n",
    "        # Grilla con valor alto en el centro y ceros alrededor\n",
    "        grid = np.zeros(grid_size, dtype=int)\n",
    "        center = tuple(s // 2 for s in grid_size)\n",
    "        \n",
    "        # Colocar valor m en el centro\n",
    "        indices = tuple(slice(c-1, c+2) for c in center)\n",
    "        grid[indices] = m\n",
    "        return grid\n",
    "    \n",
    "    elif pattern == 'checkerboard':\n",
    "        # Patrón de tablero de ajedrez\n",
    "        indices = np.indices(grid_size)\n",
    "        sum_indices = np.sum(indices, axis=0)\n",
    "        return (sum_indices % 2) * m\n",
    "    \n",
    "    else:\n",
    "        # Patrón predeterminado: valores 0\n",
    "        return np.zeros(grid_size, dtype=int)\n",
    "    \n"
   ]
  },
  {
   "cell_type": "markdown",
   "metadata": {},
   "source": [
    "### Valores inciales"
   ]
  },
  {
   "cell_type": "code",
   "execution_count": 145,
   "metadata": {},
   "outputs": [],
   "source": [
    "d = 3  # 3 dimensiones de la grilla\n",
    "grid_size = 2  # Tamaño de los arreglos\n",
    "m = 3  # Estados posibles por casilla\n",
    "r = 1 # Radio de vecindad\n",
    "grid = create_grid(d, grid_size, m, pattern='random') # Grilla inicial\n",
    "\n",
    "t = 10 # Tiempo\n"
   ]
  },
  {
   "cell_type": "code",
   "execution_count": 146,
   "metadata": {},
   "outputs": [
    {
     "data": {
      "text/plain": [
       "array([[[1, 1],\n",
       "        [0, 0]],\n",
       "\n",
       "       [[3, 0],\n",
       "        [2, 2]]], dtype=int32)"
      ]
     },
     "execution_count": 146,
     "metadata": {},
     "output_type": "execute_result"
    }
   ],
   "source": [
    "grid"
   ]
  },
  {
   "cell_type": "code",
   "execution_count": 147,
   "metadata": {},
   "outputs": [],
   "source": [
    "def evolucionar_grilla(grilla, m, r):\n",
    "    # Expandir la grilla\n",
    "    grilla_expandida = np.pad(grilla, r, mode='wrap')\n",
    "    \n",
    "    # Crear kernel usando broadcasting\n",
    "    kernel_shape = (2 * r + 1,) * grilla.ndim\n",
    "    kernel = np.ones(kernel_shape, dtype=grilla.dtype)\n",
    "    \n",
    "    # Crear índices para centro sin bucles\n",
    "    indices = np.indices(kernel_shape)\n",
    "    centro = np.all(indices == r, axis=0)\n",
    "    kernel[centro] = 0\n",
    "    \n",
    "    # Convolución para suma de vecinos\n",
    "    from scipy.ndimage import convolve\n",
    "    suma_vecinos = convolve(grilla_expandida, kernel, mode='constant', cval=0)\n",
    "    \n",
    "    # Recortar la parte válida usando indexación directa\n",
    "    indices_slice = np.s_[r:-r, r:-r]  # Para 2D\n",
    "    suma_vecinos_valida = suma_vecinos[indices_slice]\n",
    "    \n",
    "    # Aplicar reglas con broadcasting\n",
    "    SM = m * np.sum(kernel)\n",
    "    intervalos = np.linspace(0, SM, 4)\n",
    "    \n",
    "    nueva_grilla = np.copy(grilla)\n",
    "    \n",
    "    # Aplicar las reglas una por una en lugar de usar np.select\n",
    "    mascara1 = (suma_vecinos_valida >= intervalos[0]) & (suma_vecinos_valida < intervalos[1])\n",
    "    mascara2 = (suma_vecinos_valida >= intervalos[1]) & (suma_vecinos_valida < intervalos[2])\n",
    "    mascara3 = suma_vecinos_valida >= intervalos[2]\n",
    "    \n",
    "    nueva_grilla[mascara1] -= 1\n",
    "    nueva_grilla[mascara2] += 1\n",
    "    nueva_grilla[mascara3] -= 1\n",
    "    \n",
    "    return np.clip(nueva_grilla, 0, m)"
   ]
  },
  {
   "cell_type": "code",
   "execution_count": 148,
   "metadata": {},
   "outputs": [
    {
     "ename": "IndexError",
     "evalue": "boolean index did not match indexed array along axis 2; size of axis is 2 but size of corresponding boolean axis is 4",
     "output_type": "error",
     "traceback": [
      "\u001b[1;31m---------------------------------------------------------------------------\u001b[0m",
      "\u001b[1;31mIndexError\u001b[0m                                Traceback (most recent call last)",
      "Cell \u001b[1;32mIn[148], line 1\u001b[0m\n\u001b[1;32m----> 1\u001b[0m grilla_evolucionada \u001b[38;5;241m=\u001b[39m \u001b[43mevolucionar_grilla\u001b[49m\u001b[43m(\u001b[49m\u001b[43mgrid\u001b[49m\u001b[43m,\u001b[49m\u001b[43m \u001b[49m\u001b[43mm\u001b[49m\u001b[43m,\u001b[49m\u001b[43m \u001b[49m\u001b[43mr\u001b[49m\u001b[43m)\u001b[49m\n\u001b[0;32m      3\u001b[0m \u001b[38;5;28mprint\u001b[39m(\u001b[38;5;124mf\u001b[39m\u001b[38;5;124m\"\u001b[39m\u001b[38;5;124mgrilla original: \u001b[39m\u001b[38;5;130;01m\\n\u001b[39;00m\u001b[38;5;124m\"\u001b[39m, grid)\n\u001b[0;32m      5\u001b[0m \u001b[38;5;28mprint\u001b[39m(\u001b[38;5;124mf\u001b[39m\u001b[38;5;124m\"\u001b[39m\u001b[38;5;124mgrilla final: \u001b[39m\u001b[38;5;130;01m\\n\u001b[39;00m\u001b[38;5;124m\"\u001b[39m, grilla_evolucionada)\n",
      "Cell \u001b[1;32mIn[147], line 33\u001b[0m, in \u001b[0;36mevolucionar_grilla\u001b[1;34m(grilla, m, r)\u001b[0m\n\u001b[0;32m     30\u001b[0m mascara2 \u001b[38;5;241m=\u001b[39m (suma_vecinos_valida \u001b[38;5;241m>\u001b[39m\u001b[38;5;241m=\u001b[39m intervalos[\u001b[38;5;241m1\u001b[39m]) \u001b[38;5;241m&\u001b[39m (suma_vecinos_valida \u001b[38;5;241m<\u001b[39m intervalos[\u001b[38;5;241m2\u001b[39m])\n\u001b[0;32m     31\u001b[0m mascara3 \u001b[38;5;241m=\u001b[39m suma_vecinos_valida \u001b[38;5;241m>\u001b[39m\u001b[38;5;241m=\u001b[39m intervalos[\u001b[38;5;241m2\u001b[39m]\n\u001b[1;32m---> 33\u001b[0m nueva_grilla[mascara1] \u001b[38;5;241m-\u001b[39m\u001b[38;5;241m=\u001b[39m \u001b[38;5;241m1\u001b[39m\n\u001b[0;32m     34\u001b[0m nueva_grilla[mascara2] \u001b[38;5;241m+\u001b[39m\u001b[38;5;241m=\u001b[39m \u001b[38;5;241m1\u001b[39m\n\u001b[0;32m     35\u001b[0m nueva_grilla[mascara3] \u001b[38;5;241m-\u001b[39m\u001b[38;5;241m=\u001b[39m \u001b[38;5;241m1\u001b[39m\n",
      "\u001b[1;31mIndexError\u001b[0m: boolean index did not match indexed array along axis 2; size of axis is 2 but size of corresponding boolean axis is 4"
     ]
    }
   ],
   "source": [
    "grilla_evolucionada = evolucionar_grilla(grid, m, r)\n",
    "\n",
    "print(f\"grilla original: \\n\", grid)\n",
    "\n",
    "print(f\"grilla final: \\n\", grilla_evolucionada)\n",
    "# Visualizar la grilla antes y después\n",
    "fig, axes = plt.subplots(1, 2, figsize=(10, 5))\n",
    "axes[0].imshow(grid, cmap='viridis', interpolation='nearest')\n",
    "axes[0].set_title(\"Grilla Inicial\")\n",
    "axes[1].imshow(grilla_evolucionada, cmap='viridis', interpolation='nearest')\n",
    "axes[1].set_title(\"Grilla Evolucionada\")\n",
    "\n",
    "# plt.show()"
   ]
  },
  {
   "cell_type": "markdown",
   "metadata": {},
   "source": [
    "### Funciones principales"
   ]
  },
  {
   "cell_type": "markdown",
   "metadata": {},
   "source": [
    "### Pasos a seguir\n",
    "\n",
    "1. for exterior -> paso del tiempo, por cada tick hace algo\n",
    "    \n",
    "    ¿Que hace? \n",
    "\n",
    "    a. Saca las otras celdas que pertenezcan a la vecindad\n",
    "\n",
    "    b. Suma todos los valores \n",
    "\n",
    "    c. Se verifica con el intervalo si se + - o mantiene el valor de la celda\n"
   ]
  },
  {
   "cell_type": "code",
   "execution_count": null,
   "metadata": {},
   "outputs": [],
   "source": []
  }
 ],
 "metadata": {
  "kernelspec": {
   "display_name": "Python 3",
   "language": "python",
   "name": "python3"
  },
  "language_info": {
   "codemirror_mode": {
    "name": "ipython",
    "version": 3
   },
   "file_extension": ".py",
   "mimetype": "text/x-python",
   "name": "python",
   "nbconvert_exporter": "python",
   "pygments_lexer": "ipython3",
   "version": "3.10.0"
  }
 },
 "nbformat": 4,
 "nbformat_minor": 2
}
