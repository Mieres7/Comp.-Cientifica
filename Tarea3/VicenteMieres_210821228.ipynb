{
 "cells": [
  {
   "cell_type": "code",
   "execution_count": 1,
   "id": "b6d1908e",
   "metadata": {},
   "outputs": [],
   "source": [
    "import numpy as np\n",
    "import matplotlib.pyplot as plt\n",
    "import matplotlib.animation as animation"
   ]
  },
  {
   "cell_type": "code",
   "execution_count": 2,
   "id": "902ea62d",
   "metadata": {},
   "outputs": [],
   "source": [
    "# Parámetros del dominio\n",
    "a = 2.0  # Altura del canal (m)\n",
    "b = 5.0  # Ancho del canal (m)\n",
    "d = 1.0  # Distancia del obstáculo a la entrada (m)\n",
    "u0 = 1.0  # Velocidad de entrada (m/s)\n",
    "nu = 0.1  # Viscosidad cinemática (m^2/s)\n",
    "\n",
    "# Parámetros de la malla\n",
    "n = 50  # Número de puntos en la dirección y (vertical)\n",
    "m = 100  # Número de puntos en la dirección x (horizontal)\n",
    "dx = b / m  # Tamaño de celda en x\n",
    "dy = a / n  # Tamaño de celda en y\n",
    "dt = 0.001  # Paso de tiempo\n",
    "T = 5.0  # Tiempo de simulación total\n",
    "N = int(T / dt)  # Número de pasos en el tiempo\n",
    "\n",
    "# Parámetros físicos\n",
    "rho = 1.0  # Densidad del fluido (kg/m^3)\n",
    "\n",
    "# Definir el obstáculo circular\n",
    "r = a / 25  # Radio del obstáculo\n",
    "obstacle_center = (d, a / 2)  # Centro del obstáculo (a lo largo del eje x y en la mitad del canal)\n"
   ]
  },
  {
   "cell_type": "code",
   "execution_count": 3,
   "id": "2a1c6942",
   "metadata": {},
   "outputs": [],
   "source": [
    "# Matrices de velocidades y presión\n",
    "u = np.zeros((n, m))  # Velocidad en x\n",
    "v = np.zeros((n, m))  # Velocidad en y\n",
    "p = np.zeros((n, m))  # Presión\n",
    "\n",
    "# Matriz b para la ecuación de Poisson\n",
    "b = np.zeros((n, m))\n",
    "\n",
    "# Condiciones de borde: velocidad en IN y en las paredes\n",
    "u[:, 0] = u0  # Velocidad constante en la entrada (IN)\n",
    "u[:, -1] = 0  # Velocidad nula en la salida (OUT)\n",
    "\n",
    "# Condiciones en las paredes móviles\n",
    "u[0, :] = u0  # Pared superior\n",
    "u[-1, :] = u0  # Pared inferior\n",
    "\n",
    "# Establecer el obstáculo: velocidad cero en la región del obstáculo\n",
    "for i in range(n):\n",
    "    for j in range(m):\n",
    "        x, y = j * dx, i * dy\n",
    "        if (x - obstacle_center[0])**2 + (y - obstacle_center[1])**2 < r**2:\n",
    "            u[i, j] = 0\n",
    "            v[i, j] = 0\n"
   ]
  },
  {
   "cell_type": "code",
   "execution_count": 4,
   "id": "b2206e2d",
   "metadata": {},
   "outputs": [],
   "source": [
    "# Actualizar velocidades u y v (sin usar for)\n",
    "def update_velocities(u, v, p, dx, dy, dt, nu, rho):\n",
    "    # Velocidad en x\n",
    "    u[1:-1, 1:-1] = (u[1:-1, 1:-1] - u[1:-1, 1:-1] * dt / dx * (u[1:-1, 1:-1] - u[:-2, 1:-1]) -\n",
    "                     v[1:-1, 1:-1] * dt / dy * (u[1:-1, 1:-1] - u[1:-1, :-2]) -\n",
    "                     dt / (2 * rho) * (p[2:, 1:-1] - p[:-2, 1:-1]) / dx +\n",
    "                     nu * dt * ((u[2:, 1:-1] - 2 * u[1:-1, 1:-1] + u[:-2, 1:-1]) / dx**2 +\n",
    "                                (u[1:-1, 2:] - 2 * u[1:-1, 1:-1] + u[1:-1, :-2]) / dy**2))\n",
    "\n",
    "    # Velocidad en y\n",
    "    v[1:-1, 1:-1] = (v[1:-1, 1:-1] - u[1:-1, 1:-1] * dt / dx * (v[1:-1, 1:-1] - v[:-2, 1:-1]) -\n",
    "                     v[1:-1, 1:-1] * dt / dy * (v[1:-1, 1:-1] - v[1:-1, :-2]) -\n",
    "                     dt / (2 * rho) * (p[1:-1, 2:] - p[1:-1, :-2]) / dy +\n",
    "                     nu * dt * ((v[2:, 1:-1] - 2 * v[1:-1, 1:-1] + v[:-2, 1:-1]) / dx**2 +\n",
    "                                (v[1:-1, 2:] - 2 * v[1:-1, 1:-1] + v[1:-1, :-2]) / dy**2))\n",
    "    return u, v\n",
    "\n",
    "# Cálculo de la ecuación de Poisson (sin usar for)\n",
    "def pressure_poisson(p, dx, dy, rho):\n",
    "    pn = np.copy(p)\n",
    "    \n",
    "    # Relajación en toda la malla excepto los bordes\n",
    "    p[1:-1, 1:-1] = ((pn[2:, 1:-1] + pn[:-2, 1:-1]) * dy**2 +\n",
    "                     (pn[1:-1, 2:] + pn[1:-1, :-2]) * dx**2 -\n",
    "                     b[1:-1, 1:-1] * dx**2 * dy**2) / (2 * (dx**2 + dy**2))\n",
    "    \n",
    "    return p\n"
   ]
  },
  {
   "cell_type": "code",
   "execution_count": 5,
   "id": "56bb3e87",
   "metadata": {},
   "outputs": [
    {
     "data": {
      "image/png": "[encoded data removed]",
      "text/plain": [
       "<Figure size 640x480 with 2 Axes>"
      ]
     },
     "metadata": {},
     "output_type": "display_data"
    }
   ],
   "source": [
    "# Bucle principal de simulación (sin usar for)\n",
    "for t in range(N):\n",
    "    # Calcular la matriz b para la ecuación de Poisson\n",
    "    b[1:-1, 1:-1] = (rho * (1 / dt * ((u[1:-1, 1:-1] - u[:-2, 1:-1]) / dx +\n",
    "                                      (v[1:-1, 1:-1] - v[1:-1, :-2]) / dy) -\n",
    "                            ((u[1:-1, 1:-1] * (u[1:-1, 1:-1] - u[:-2, 1:-1]) / dx) +\n",
    "                             (v[1:-1, 1:-1] * (v[1:-1, 1:-1] - v[1:-1, :-2]) / dy))))\n",
    "\n",
    "    # Resolver la ecuación de Poisson para la presión\n",
    "    p = pressure_poisson(p, dx, dy, rho)\n",
    "\n",
    "    # Actualizar velocidades\n",
    "    u, v = update_velocities(u, v, p, dx, dy, dt, nu, rho)\n",
    "\n",
    "# Visualizar los resultados\n",
    "plt.imshow(u, cmap='coolwarm')\n",
    "plt.colorbar()\n",
    "plt.title('Velocidad en X')\n",
    "plt.show()\n"
   ]
  }
 ],
 "metadata": {
  "kernelspec": {
   "display_name": "Python 3",
   "language": "python",
   "name": "python3"
  },
  "language_info": {
   "codemirror_mode": {
    "name": "ipython",
    "version": 3
   },
   "file_extension": ".py",
   "mimetype": "text/x-python",
   "name": "python",
   "nbconvert_exporter": "python",
   "pygments_lexer": "ipython3",
   "version": "3.10.0"
  }
 },
 "nbformat": 4,
 "nbformat_minor": 5
}
