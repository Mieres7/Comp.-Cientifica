{
 "cells": [
  {
   "cell_type": "markdown",
   "id": "8dfe7622",
   "metadata": {},
   "source": [
    "# Tarea 2 - Computación Cienctífica y Ciencia de los Datos\n",
    "## Medio elástico discreto\n",
    "### Vicente Mieres / 21.082.122-8"
   ]
  },
  {
   "cell_type": "code",
   "execution_count": 1,
   "id": "ff67cba8",
   "metadata": {},
   "outputs": [],
   "source": [
    "%matplotlib widget"
   ]
  },
  {
   "cell_type": "code",
   "execution_count": 14,
   "id": "c0729d88",
   "metadata": {},
   "outputs": [],
   "source": [
    "# imports \n",
    "import numpy as np\n",
    "import matplotlib.pyplot as plt\n",
    "from matplotlib.animation import FuncAnimation"
   ]
  },
  {
   "cell_type": "markdown",
   "id": "3476d02a",
   "metadata": {},
   "source": [
    "## Parte 1 - Simulación de trayectoria\n",
    "\n",
    "1.1 Funciones Principales"
   ]
  },
  {
   "cell_type": "code",
   "execution_count": 9,
   "id": "35963038",
   "metadata": {},
   "outputs": [],
   "source": [
    "def matrix_init(n, k_const=1.0):\n",
    "    N = n * n\n",
    "    dim = 2 * N\n",
    "    K = np.zeros((dim, dim))\n",
    "    \n",
    "    def idx(i, j, coord):\n",
    "        masa = i * n + j\n",
    "        return 2 * masa + coord\n",
    "\n",
    "    for i in range(n):\n",
    "        for j in range(n):\n",
    "            for coord in [0,1]:\n",
    "                diagonal_pos = idx(i,j,coord)\n",
    "                suma_k_vecinos = 0\n",
    "                vecinos = []\n",
    "                if i+1 < n:\n",
    "                    vecinos.append(idx(i+1,j,coord))\n",
    "                    suma_k_vecinos += k_const\n",
    "                if i-1 >= 0:\n",
    "                    vecinos.append(idx(i-1,j,coord))\n",
    "                    suma_k_vecinos += k_const\n",
    "                if j+1 < n:\n",
    "                    vecinos.append(idx(i,j+1,coord))\n",
    "                    suma_k_vecinos += k_const\n",
    "                if j-1 >= 0:\n",
    "                    vecinos.append(idx(i,j-1,coord))\n",
    "                    suma_k_vecinos += k_const\n",
    "                \n",
    "                K[diagonal_pos, diagonal_pos] = suma_k_vecinos\n",
    "                for v in vecinos:\n",
    "                    K[diagonal_pos, v] = -k_const\n",
    "    return K\n",
    "\n",
    "\n",
    "def get_values(K):\n",
    "    eigvals, eigvecs = np.linalg.eig(K)\n",
    "\n",
    "    # Ordenar por valor absoluto\n",
    "    idx_sorted = np.argsort(np.abs(eigvals))\n",
    "    eigvals = eigvals[idx_sorted]\n",
    "    eigvecs = eigvecs[:, idx_sorted]\n",
    "\n",
    "    # omega\n",
    "    omega = np.sqrt(np.clip(eigvals, a_min=0, a_max=None))\n",
    "\n",
    "    return eigvecs, omega\n",
    "\n",
    "def simulate_trayectory(t_vect, R0, V0, A, omega):\n",
    "    \"\"\"\n",
    "    Simula R(t) para cada tiempo en t_vect.\n",
    "\n",
    "    Parámetros:\n",
    "    - t_vect: array 1D con tiempos, shape (T,)\n",
    "    - R0: vector condiciones iniciales posiciones, shape (D,)\n",
    "    - V0: vector condiciones iniciales velocidades, shape (D,)\n",
    "    - A: matriz autovectores, shape (D, D)\n",
    "    - omega: vector frecuencias, shape (D,)\n",
    "\n",
    "    Retorna:\n",
    "    - Rt: array con resultados para cada t, shape (T, D)\n",
    "    \"\"\"\n",
    "\n",
    "    D = R0.shape[0]\n",
    "    T = t_vect.shape[0]\n",
    "\n",
    "    AR0 = A.T @ R0      # Transformar R0 al espacio de autovectores\n",
    "    AV0 = A.T @ V0      # Transformar V0 al espacio de autovectores\n",
    "\n",
    "    omega_mat = omega.reshape((1, D))  # Reshape para aplicar la frecuencia sobre todos los tiempos\n",
    "    t_mat = t_vect.reshape((T, 1))     # Reshape para aplicar los tiempos sobre todas las frecuencias\n",
    "    \n",
    "    f_t = np.cos(omega_mat * t_mat) \n",
    "\n",
    "    with np.errstate(divide='ignore', invalid='ignore'):\n",
    "        g_t = np.where(omega_mat != 0,\n",
    "                       np.sin(omega_mat * t_mat) / omega_mat,\n",
    "                       t_mat) \n",
    "    term1 = f_t * AR0  \n",
    "    term2 = g_t * AV0  \n",
    "    \n",
    "    R_t = term1 + term2  \n",
    "\n",
    "    Rt = R_t @ A.T\n",
    "\n",
    "    return Rt\n",
    "\n",
    "\n",
    "def animation(Rt, n, t_vect, file_name, intervalo=20, margin=2):\n",
    "    \"\"\"\n",
    "    Anima la malla de masas moviéndose con las posiciones Rt y muestra el centro de masa.\n",
    "    \n",
    "    Parámetros:\n",
    "    - Rt: array con posiciones en cada tiempo, shape (T, 2*n^2)\n",
    "    - n: tamaño de la malla (n x n)\n",
    "    - t_vect: vector de tiempos (T,)\n",
    "    - file_name: nombre del archivo de salida\n",
    "    - intervalo: ms entre frames de animación\n",
    "    \"\"\"\n",
    "    \n",
    "    # Coordenadas iniciales en reposo, grilla regular\n",
    "    x_eq = np.repeat(np.arange(n), n)\n",
    "    y_eq = np.tile(np.arange(n), n)\n",
    "\n",
    "    x_cm_initial = np.mean(x_eq)\n",
    "    y_cm_initial = np.mean(y_eq)\n",
    "    \n",
    "    # Fijar límites de los ejes en base al centro de masa inicial\n",
    "\n",
    "    fig, ax = plt.subplots(figsize=(6,6))\n",
    "    # ax.set_xlim(-1, 10)\n",
    "    ax.set_xlim(x_cm_initial - margin, x_cm_initial + margin)\n",
    "    ax.set_ylim(y_cm_initial - margin, y_cm_initial + margin)\n",
    "    # ax.set_ylim(-1, 10)\n",
    "    ax.set_aspect('equal')\n",
    "    ax.set_title(\"Simulación Movimiento Medio Elástico\")\n",
    "    ax.grid(True)\n",
    "\n",
    "\n",
    "\n",
    "    # Scatter plot para posiciones (se actualizará)\n",
    "    scat = ax.scatter(x_eq, y_eq, c='blue')\n",
    "    \n",
    "    # Punto para el centro de masa (inicialmente en el centro)\n",
    "    center_of_mass, = ax.plot([], [], 'ro', markersize=8, label=\"Centro de masa\")\n",
    "\n",
    "    # Función para actualizar la animación\n",
    "    def update(frame):\n",
    "        R_t = Rt[frame]  # posiciones desplazadas en el tiempo\n",
    "        x_t = x_eq + R_t[0::2]  # posiciones x + desplazamientos\n",
    "        y_t = y_eq + R_t[1::2]  # posiciones y + desplazamientos\n",
    "        \n",
    "        # Actualiza las posiciones de las masas\n",
    "        scat.set_offsets(np.c_[x_t, y_t])\n",
    "        \n",
    "        # Calcular el centro de masa en el tiempo t\n",
    "        # El centro de masa es el promedio ponderado de las posiciones\n",
    "        x_cm = np.mean(x_t)  # Promedio de las posiciones x\n",
    "        y_cm = np.mean(y_t)  # Promedio de las posiciones y\n",
    "        # print(x_cm, y_cm)\n",
    "        \n",
    "        # Actualizar la posición del centro de masa en la animación\n",
    "        center_of_mass.set_data([x_cm], [y_cm])  # Pasamos como lista\n",
    "\n",
    "        # Actualizar la etiqueta y el tiempo en el gráfico\n",
    "        ax.set_xlabel(f\"t = {t_vect[frame]:.2f} s\")\n",
    "        return scat, center_of_mass\n",
    "\n",
    "    # Crear la animación\n",
    "    anim = FuncAnimation(fig, update, frames=len(t_vect), interval=intervalo, blit=True)\n",
    "    \n",
    "    # Guardar la animación como GIF\n",
    "    anim.save(f\"{file_name}.gif\", writer=\"ffmpeg\", fps=30)\n",
    "\n",
    "def generate_v0(n, amp=0.5):\n",
    "    \"\"\"\n",
    "    Genera velocidades para el movimiento oscilatorio con el centro de masa en reposo o con desplazamiento.\n",
    "    Alterna las velocidades en x y en y de forma que se compense el movimiento del centro de masa, o no.\n",
    "    \n",
    "    - n: tamaño de la malla (n x n)\n",
    "    - amp: amplitud de las velocidades de oscilación\n",
    "    \"\"\"\n",
    "    D = 2 * n * n  # tamaño del vector de velocidades (2n^2)\n",
    "    V = np.zeros(D)  # Inicializar las velocidades en 0\n",
    "    \n",
    "    # Vectorizamos las asignaciones para las velocidades en x\n",
    "    V[0::2] = amp * np.arange(n * n) % 2 * 2 - 1  # Alterna +amp y -amp en las posiciones x\n",
    "    \n",
    "    # Vectorizamos las asignaciones para las velocidades en y\n",
    "    V[1::2] = amp * np.arange(n * n) // 2 % 2 * 2 - 1  # Alterna +amp y -amp en las posiciones y\n",
    "\n",
    "    return V\n"
   ]
  },
  {
   "cell_type": "markdown",
   "id": "07037059",
   "metadata": {},
   "source": [
    "## Experimentos con centro de masa estático"
   ]
  },
  {
   "cell_type": "code",
   "execution_count": 4,
   "id": "65c92128",
   "metadata": {},
   "outputs": [
    {
     "ename": "IndexError",
     "evalue": "shape mismatch: indexing arrays could not be broadcast together with shapes (4,4) (13,) ",
     "output_type": "error",
     "traceback": [
      "\u001b[1;31m---------------------------------------------------------------------------\u001b[0m",
      "\u001b[1;31mIndexError\u001b[0m                                Traceback (most recent call last)",
      "File \u001b[1;32m<timed exec>:3\u001b[0m\n",
      "Cell \u001b[1;32mIn[3], line 27\u001b[0m, in \u001b[0;36mmatrix_init\u001b[1;34m(n, k_const)\u001b[0m\n\u001b[0;32m     25\u001b[0m \u001b[38;5;66;03m# Asignar valores a la matriz K utilizando las relaciones, solo para los índices válidos\u001b[39;00m\n\u001b[0;32m     26\u001b[0m \u001b[38;5;28;01mfor\u001b[39;00m i \u001b[38;5;129;01min\u001b[39;00m \u001b[38;5;28mrange\u001b[39m(\u001b[38;5;241m4\u001b[39m):\n\u001b[1;32m---> 27\u001b[0m     \u001b[43mK\u001b[49m\u001b[43m[\u001b[49m\u001b[43midx_0\u001b[49m\u001b[43m,\u001b[49m\u001b[43m \u001b[49m\u001b[43mvecinos_0\u001b[49m\u001b[43m[\u001b[49m\u001b[43m:\u001b[49m\u001b[43m,\u001b[49m\u001b[43mi\u001b[49m\u001b[43m]\u001b[49m\u001b[43m[\u001b[49m\u001b[43mmask_0\u001b[49m\u001b[43m[\u001b[49m\u001b[43m:\u001b[49m\u001b[43m,\u001b[49m\u001b[43mi\u001b[49m\u001b[43m]\u001b[49m\u001b[43m]\u001b[49m\u001b[43m]\u001b[49m \u001b[38;5;241m=\u001b[39m \u001b[38;5;241m-\u001b[39mk_const\n\u001b[0;32m     28\u001b[0m     K[idx_1, vecinos_1[:,i][mask_1[:,i]]] \u001b[38;5;241m=\u001b[39m \u001b[38;5;241m-\u001b[39mk_const\n\u001b[0;32m     30\u001b[0m \u001b[38;5;66;03m# Diagonal\u001b[39;00m\n",
      "\u001b[1;31mIndexError\u001b[0m: shape mismatch: indexing arrays could not be broadcast together with shapes (4,4) (13,) "
     ]
    }
   ],
   "source": [
    "%%time\n",
    "# Experimento 1 - n < 5\n",
    "n = 4  # tamaño de la malla\n",
    "K = matrix_init(n)\n",
    "\n",
    "print(f\"Dimensiones de la matríz K: {K.shape}\")\n",
    "\n",
    "# Calcular valores y vectores propios\n",
    "eigvecs, omega = get_values(K)\n",
    "\n",
    "# Condiciones iniciales\n",
    "D = 2 * n * n\n",
    "R0 = np.zeros(D) # posiciones iniciales en equilibrio\n",
    "V0 = generate_v0(n=4, amp=1)\n",
    "\n",
    "print(f\"Vector con velocidades iniciales: {V0}\")\n",
    "\n",
    "vx_total = np.sum(V0[0::2])  # suma de las velocidades en x\n",
    "vy_total = np.sum(V0[1::2])  # suma de las velocidades en y\n",
    "\n",
    "print(\"Suma velocidades en x:\", vx_total)\n",
    "print(\"Suma velocidades en y:\", vy_total)\n",
    "\n",
    "# Vector de tiempos\n",
    "t_vect = np.linspace(0, 10, 500)"
   ]
  },
  {
   "cell_type": "code",
   "execution_count": 5,
   "id": "366d050f",
   "metadata": {},
   "outputs": [
    {
     "name": "stdout",
     "output_type": "stream",
     "text": [
      "CPU times: total: 0 ns\n",
      "Wall time: 1 ms\n"
     ]
    }
   ],
   "source": [
    "%%time\n",
    "# Simular trayectoria\n",
    "Rt = simulate_trayectory(t_vect, R0, V0, eigvecs, omega)"
   ]
  },
  {
   "cell_type": "code",
   "execution_count": null,
   "id": "bc0f1a01",
   "metadata": {},
   "outputs": [
    {
     "name": "stderr",
     "output_type": "stream",
     "text": [
      "MovieWriter ffmpeg unavailable; using Pillow instead.\n"
     ]
    },
    {
     "data": {
      "application/vnd.jupyter.widget-view+json": {
       "model_id": "6d2df53dfc0e4bf999305252a3b45fad",
       "version_major": 2,
       "version_minor": 0
      },
      "image/png": "[encoded data removed]",
      "text/html": [
       "\n",
       "            <div style=\"display: inline-block;\">\n",
       "                <div class=\"jupyter-widgets widget-label\" style=\"text-align: center;\">\n",
       "                    Figure\n",
       "                </div>\n",
       "                <img src='data:image/png;base64,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' width=600.0/>\n",
       "            </div>\n",
       "        "
      ],
      "text/plain": [
       "Canvas(toolbar=Toolbar(toolitems=[('Home', 'Reset original view', 'home', 'home'), ('Back', 'Back to previous …"
      ]
     },
     "metadata": {},
     "output_type": "display_data"
    }
   ],
   "source": [
    "%%time\n",
    "animation(Rt, 4, t_vect, \"experimento_1\")"
   ]
  },
  {
   "cell_type": "code",
   "execution_count": 11,
   "id": "353bc0cc",
   "metadata": {},
   "outputs": [
    {
     "name": "stdout",
     "output_type": "stream",
     "text": [
      "Dimensiones de la matríz K: (162, 162)\n",
      "Vector con velocidades iniciales: [-1. -1.  1. -1. -1.  1.  1.  1. -1. -1.  1. -1. -1.  1.  1.  1. -1. -1.\n",
      "  1. -1. -1.  1.  1.  1. -1. -1.  1. -1. -1.  1.  1.  1. -1. -1.  1. -1.\n",
      " -1.  1.  1.  1.  0. -1.  1. -1. -1.  1.  1.  1. -1. -1.  1. -1. -1.  1.\n",
      "  1.  1. -1. -1.  1. -1. -1.  1.  1.  1. -1. -1.  1. -1. -1.  1.  1.  1.\n",
      " -1. -1.  1. -1. -1.  1.  1.  1. -1.  0.  1. -1. -1.  1.  1.  1. -1. -1.\n",
      "  1. -1. -1.  1.  1.  1. -1. -1.  1. -1. -1.  1.  1.  1. -1. -1.  1. -1.\n",
      " -1.  1.  1.  1. -1. -1.  1. -1. -1.  1.  1.  1. -1. -1.  1. -1. -1.  1.\n",
      "  1.  1. -1. -1.  1. -1. -1.  1.  1.  1. -1. -1.  1. -1. -1.  1.  1.  1.\n",
      " -1. -1.  1. -1. -1.  1.  1.  1. -1. -1.  1. -1. -1.  1.  1.  1. -1. -1.]\n",
      "Suma velocidades en x: 0.0\n",
      "Suma velocidades en y: 0.0\n",
      "CPU times: total: 31.2 ms\n",
      "Wall time: 35 ms\n"
     ]
    }
   ],
   "source": [
    "%%time\n",
    "# Experimento 2 - n e [5,10]\n",
    "\n",
    "n = 9  # tamaño de la malla\n",
    "K = matrix_init(n)\n",
    "\n",
    "print(f\"Dimensiones de la matríz K: {K.shape}\")\n",
    "\n",
    "# Calcular valores y vectores propios\n",
    "eigvecs, omega = get_values(K)\n",
    "\n",
    "# Condiciones iniciales\n",
    "D = 2 * n * n\n",
    "R0 = np.zeros(D) # posiciones iniciales en equilibrio\n",
    "V0 = generate_v0(n=9, amp=1)\n",
    "# Esta modificacion solo se hace para que la suma quede en 0.0 y por tanto el centro de masas estático\n",
    "V0[(n * n) // 2] = 0\n",
    "V0[(n * n)  - 1 // 2] = 0\n",
    "\n",
    "print(f\"Vector con velocidades iniciales: {V0}\")\n",
    "\n",
    "vx_total = np.sum(V0[0::2])  # suma de las velocidades en x\n",
    "vy_total = np.sum(V0[1::2])  # suma de las velocidades en y\n",
    "\n",
    "print(\"Suma velocidades en x:\", vx_total)\n",
    "print(\"Suma velocidades en y:\", vy_total)\n",
    "\n",
    "# Vector de tiempos\n",
    "t_vect = np.linspace(0, 10, 500)"
   ]
  },
  {
   "cell_type": "code",
   "execution_count": 12,
   "id": "f983dff5",
   "metadata": {},
   "outputs": [
    {
     "name": "stdout",
     "output_type": "stream",
     "text": [
      "forma del vector R(t): (500, 162)\n",
      "CPU times: total: 31.2 ms\n",
      "Wall time: 19 ms\n"
     ]
    }
   ],
   "source": [
    "%%time\n",
    "# Simular trayectoria\n",
    "Rt = simulate_trayectory(t_vect, R0, V0, eigvecs, omega)\n",
    "print(f\"forma del vector R(t): {Rt.shape}\")"
   ]
  },
  {
   "cell_type": "code",
   "execution_count": 15,
   "id": "beb7e821",
   "metadata": {},
   "outputs": [
    {
     "name": "stderr",
     "output_type": "stream",
     "text": [
      "c:\\Users\\vicen\\AppData\\Local\\Programs\\Python\\Python310\\lib\\site-packages\\matplotlib\\collections.py:558: ComplexWarning: Casting complex values to real discards the imaginary part\n",
      "  (np.asanyarray(self.convert_xunits(offsets[:, 0]), float),\n",
      "c:\\Users\\vicen\\AppData\\Local\\Programs\\Python\\Python310\\lib\\site-packages\\matplotlib\\collections.py:559: ComplexWarning: Casting complex values to real discards the imaginary part\n",
      "  np.asanyarray(self.convert_yunits(offsets[:, 1]), float)))\n",
      "MovieWriter ffmpeg unavailable; using Pillow instead.\n",
      "c:\\Users\\vicen\\AppData\\Local\\Programs\\Python\\Python310\\lib\\site-packages\\matplotlib\\collections.py:558: ComplexWarning: Casting complex values to real discards the imaginary part\n",
      "  (np.asanyarray(self.convert_xunits(offsets[:, 0]), float),\n",
      "c:\\Users\\vicen\\AppData\\Local\\Programs\\Python\\Python310\\lib\\site-packages\\matplotlib\\collections.py:559: ComplexWarning: Casting complex values to real discards the imaginary part\n",
      "  np.asanyarray(self.convert_yunits(offsets[:, 1]), float)))\n",
      "c:\\Users\\vicen\\AppData\\Local\\Programs\\Python\\Python310\\lib\\site-packages\\matplotlib\\cbook.py:1398: ComplexWarning: Casting complex values to real discards the imaginary part\n",
      "  return np.asarray(x, float)\n"
     ]
    },
    {
     "name": "stdout",
     "output_type": "stream",
     "text": [
      "CPU times: total: 54.7 s\n",
      "Wall time: 1min 2s\n"
     ]
    },
    {
     "data": {
      "image/png": "[encoded data removed]",
      "text/plain": [
       "<Figure size 600x600 with 1 Axes>"
      ]
     },
     "metadata": {},
     "output_type": "display_data"
    }
   ],
   "source": [
    "%%time\n",
    "animation(Rt, 9, t_vect, \"experimento_2\")"
   ]
  },
  {
   "cell_type": "code",
   "execution_count": null,
   "id": "fa517536",
   "metadata": {},
   "outputs": [
    {
     "name": "stdout",
     "output_type": "stream",
     "text": [
      "CPU times: total: 0 ns\n",
      "Wall time: 0 ns\n",
      "Dimensiones de la matríz K: (7442, 7442)\n"
     ]
    }
   ],
   "source": [
    "%time\n",
    "# Experimento 3 - n e [50,100]\n",
    "\n",
    "n = 61  # tamaño de la malla\n",
    "K = matrix_init(n)\n",
    "\n",
    "print(f\"Dimensiones de la matríz K: {K.shape}\")\n",
    "\n",
    "# Calcular valores y vectores propios\n",
    "eigvecs, omega = get_values(K)\n",
    "\n",
    "# Condiciones iniciales\n",
    "D = 2 * n * n\n",
    "R0 = np.zeros(D) # posiciones iniciales en equilibrio\n",
    "V0 = generate_v0(n=61, amp=1)\n",
    "# Esta modificacion solo se hace para que la suma quede en 0.0 y por tanto el centro de masas estático\n",
    "V0[(n * n) // 2] = 0\n",
    "V0[(n * n)  - 1 // 2] = 0\n",
    "\n",
    "print(f\"Vector con velocidades iniciales: {V0}\")\n",
    "\n",
    "vx_total = np.sum(V0[0::2])  # suma de las velocidades en x\n",
    "vy_total = np.sum(V0[1::2])  # suma de las velocidades en y\n",
    "\n",
    "print(\"Suma velocidades en x:\", vx_total)\n",
    "print(\"Suma velocidades en y:\", vy_total)\n",
    "\n",
    "# Vector de tiempos\n",
    "t_vect = np.linspace(0, 10, 300)"
   ]
  },
  {
   "cell_type": "code",
   "execution_count": null,
   "id": "1d470d04",
   "metadata": {},
   "outputs": [],
   "source": [
    "%%time\n",
    "# Simular trayectoria\n",
    "Rt = simulate_trayectory(t_vect, R0, V0, eigvecs, omega)\n",
    "print(f\"forma del vector R(t): {Rt.shape}\")"
   ]
  },
  {
   "cell_type": "code",
   "execution_count": null,
   "id": "cdc72838",
   "metadata": {},
   "outputs": [],
   "source": [
    "%%time\n",
    "animation(Rt, 9, t_vect, \"experimento_3\")"
   ]
  },
  {
   "cell_type": "markdown",
   "id": "a2c0de33",
   "metadata": {},
   "source": [
    "## Experimentos con centro de masa oscilatorio"
   ]
  },
  {
   "cell_type": "code",
   "execution_count": 13,
   "id": "9c5f4449",
   "metadata": {},
   "outputs": [
    {
     "name": "stdout",
     "output_type": "stream",
     "text": [
      "CPU times: total: 0 ns\n",
      "Wall time: 0 ns\n",
      "Dimensiones de la matríz K: (18, 18)\n",
      "Vector con velocidades iniciales: [0. 0. 0. 0. 0. 0. 0. 0. 0. 2. 0. 0. 0. 0. 0. 0. 0. 0.]\n",
      "Suma velocidades en x: 0.0\n",
      "Suma velocidades en y: 2.0\n"
     ]
    }
   ],
   "source": [
    "%time\n",
    "# Experimento 4 - n < 5\n",
    "\n",
    "n = 3 # tamaño de la malla\n",
    "K = matrix_init(n)\n",
    "\n",
    "print(f\"Dimensiones de la matríz K: {K.shape}\")\n",
    "\n",
    "# Calcular valores y vectores propios\n",
    "eigvecs, omega = get_values(K)\n",
    "\n",
    "# Condiciones iniciales\n",
    "D = 2 * n * n\n",
    "R0 = np.zeros(D) # posiciones iniciales en equilibrio\n",
    "V0 = np.zeros(D)\n",
    "V0[2*n*n//2] = 2\n",
    "\n",
    "print(f\"Vector con velocidades iniciales: {V0}\")\n",
    "\n",
    "vx_total = np.sum(V0[0::2])  # suma de las velocidades en x\n",
    "vy_total = np.sum(V0[1::2])  # suma de las velocidades en y\n",
    "\n",
    "print(\"Suma velocidades en x:\", vx_total)\n",
    "print(\"Suma velocidades en y:\", vy_total)\n",
    "\n",
    "# Vector de tiempos\n",
    "t_vect = np.linspace(0, 10, 500)"
   ]
  },
  {
   "cell_type": "code",
   "execution_count": 14,
   "id": "1570eb2c",
   "metadata": {},
   "outputs": [
    {
     "name": "stdout",
     "output_type": "stream",
     "text": [
      "forma del vector R(t): (500, 18)\n",
      "CPU times: total: 0 ns\n",
      "Wall time: 2.02 ms\n"
     ]
    }
   ],
   "source": [
    "%%time\n",
    "# Simular trayectoria\n",
    "Rt = simulate_trayectory(t_vect, R0, V0, eigvecs, omega)\n",
    "print(f\"forma del vector R(t): {Rt.shape}\")"
   ]
  },
  {
   "cell_type": "code",
   "execution_count": 15,
   "id": "db4b68be",
   "metadata": {},
   "outputs": [
    {
     "name": "stderr",
     "output_type": "stream",
     "text": [
      "MovieWriter ffmpeg unavailable; using Pillow instead.\n",
      "c:\\Users\\vicen\\AppData\\Local\\Programs\\Python\\Python310\\lib\\site-packages\\matplotlib\\collections.py:558: ComplexWarning: Casting complex values to real discards the imaginary part\n",
      "  (np.asanyarray(self.convert_xunits(offsets[:, 0]), float),\n",
      "c:\\Users\\vicen\\AppData\\Local\\Programs\\Python\\Python310\\lib\\site-packages\\matplotlib\\collections.py:559: ComplexWarning: Casting complex values to real discards the imaginary part\n",
      "  np.asanyarray(self.convert_yunits(offsets[:, 1]), float)))\n",
      "c:\\Users\\vicen\\AppData\\Local\\Programs\\Python\\Python310\\lib\\site-packages\\matplotlib\\cbook.py:1398: ComplexWarning: Casting complex values to real discards the imaginary part\n",
      "  return np.asarray(x, float)\n"
     ]
    },
    {
     "name": "stdout",
     "output_type": "stream",
     "text": [
      "CPU times: total: 32.1 s\n",
      "Wall time: 33.7 s\n"
     ]
    },
    {
     "data": {
      "application/vnd.jupyter.widget-view+json": {
       "model_id": "92638e8eb689419f83414b749fb8ae96",
       "version_major": 2,
       "version_minor": 0
      },
      "image/png": "[encoded data removed]",
      "text/html": [
       "\n",
       "            <div style=\"display: inline-block;\">\n",
       "                <div class=\"jupyter-widgets widget-label\" style=\"text-align: center;\">\n",
       "                    Figure\n",
       "                </div>\n",
       "                <img src='data:image/png;base64,iVBORw0KGgoAAAANSUhEUgAAAlgAAAJYCAYAAAC+ZpjcAAAAOXRFWHRTb2Z0d2FyZQBNYXRwbG90bGliIHZlcnNpb24zLjkuMywgaHR0cHM6Ly9tYXRwbG90bGliLm9yZy/GU6VOAAAACXBIWXMAAA9hAAAPYQGoP6dpAABInklEQVR4nO3deXhUVbr+/bsIGQiQBBCSAGESZRSQQQwyNmEQDk1UEMFfM4g4AW0ajjS0A0b0RAHFCUWOB/DYjSI2gwOCEQg0EhCQKNCYRkSwMQkKkjBIKJL1/sGbOhYZSMJKiqr6fq6rru5atfau56ldJXf23rXLYYwxAgAAgDVVPF0AAACAryFgAQAAWEbAAgAAsIyABQAAYBkBCwAAwDICFgAAgGUELAAAAMsIWAAAAJYRsAAAACwjYAEAAFhGwAIAALCMgAUAAGAZAQsAAMAyAhYAAIBlBCwAAADLCFgAAACWEbAAAAAsI2ABAABYRsACAACwjIAFAABgGQELAADAMgIWAACAZQQsAAAAywhYAAAAlhGwAAAALCNgAQAAWEbAAgAAsIyABQAAYBkBCwAAwDICFgAAgGUELAAAAMsIWAAAAJYRsAAAACwjYAEAAFhGwAIAALCMgAUAAGAZAQsAAMAyAhYAAIBlBCwAAADLCFgAAACWEbAAAAAsI2ABAABYRsACAACwjIAFAABgGQELAADAMgIWAACAZQQsAAAAywhYAAAAlhGwAA9asWKF5s6dq7y8PE+XAlw1du7cqcTERB07dszTpQDlRsCCRzVp0kRjx471yHM/+eSTcjgcFbb+sWPHqkmTJsU+vnXrVt19991q3bq1AgICKqwOT+rdu7d69+5tdZ2efM94q++//14Oh0NLlixxjVX0+78stfzW8ePHddttt8npdKpevXqV9ryAbQQsVIg9e/Zo2LBhaty4sUJCQtSgQQP169dPr7zyiqdLuyocP35cd911l15++WUNGjTI6roL/iFxOBx6+umni5xz9913y+FwqEaNGlaf21esWbNGTz75pPX1jh07Vg6HQ2FhYfr1118LPX7gwAHXtps7d671569IBYGtuFtmZuZl12GM0ZgxY9S7d+9i37uXs3TpUr344ovlWhawqaqnC4Dv2bp1q/r06aNGjRppwoQJioqK0g8//KBt27bppZde0uTJk11z09PTVaWKb+b8//7v/1Z+fn6Rj+3evVtPP/20Ro8eXWHPHxISonfeeUePPfaY2/iZM2e0evVqhYSEVNhzF/j000+tr7My3jNr1qzR/PnzKyRkVa1aVWfPntWHH36oO++80+2xv/3tbwoJCdG5c+esP++lHnvsMU2fPt36el9//fUig3tERMRllz106JC6d++uKVOmlPv5ly5dqr179yohIcFtvHHjxvr1118VGBhY7nUDZUHAgnXPPPOMwsPDtWPHjkL/Ub30nIrg4OBKrKxylfQf8ri4uAp//kGDBmnFihX66quv1L59e9f46tWrdf78eQ0cOFAbNmyo0BqCgoKsr9Pb3zPBwcG65ZZb9M477xQKWEuXLtXgwYP197//vcLrqFq1qqpWtf9PwLBhw3TNNdeUa9lmzZpVSOiTJIfDUSl/VAAFfHPXATzq4MGDatOmTZF/sV56TsWl59MsWbJEDodDW7Zs0R//+EfVrVtXERERuv/++3X+/HmdPHlSo0ePVq1atVSrVi1NmzZNxhjX8ikpKXI4HEpJSXF7ntKef7F48WL97ne/U7169RQcHKzWrVvr9ddfL3LuJ598ol69eqlmzZoKCwtTly5dtHTpUtfjRZ2DdebMGU2dOlUxMTEKDg5WixYtNHfuXLcepIv/GEyaNEmrVq1S27ZtFRwcrDZt2mjt2rUl1v9bsbGxatq0qVtN0sW9JAMHDlTt2rWLXO61115TmzZtFBwcrPr162vixIk6efKk6/FJkyapRo0aOnv2bKFlR44cqaioKNdJ+5eeg1Wwfd577z0lJiaqQYMGqlmzpoYNG6bs7Gzl5uYqISFB9erVU40aNTRu3Djl5ua6PUdR52CdPHlSCQkJrte1efPmeu6559z2IBa8B+bOnauFCxfq2muvVXBwsLp06aIdO3a45o0dO1bz58+XJLdDXAVKuw1LMmrUKH3yySdur+uOHTt04MABjRo1qshlStNjwbyxY8cqPDxcERERGjNmjNvzFCjqHKwLFy5o1qxZrtemSZMm+stf/lJoG9j29ddfa+zYsWrWrJlCQkIUFRWle+65R8ePH3ebd+rUKSUkJKhJkyYKDg5WvXr11K9fP3355ZeSLr7fPv74Yx0+fNi13Qo+g8X9N+Cbb77RnXfeqbp166patWpq0aKFHn30Ubc5u3fv1q233qqwsDDVqFFDffv21bZt2yrs9YBvYA8WrGvcuLFSU1O1d+9etW3btlzrmDx5sqKiopSYmKht27Zp4cKFioiI0NatW9WoUSP913/9l9asWaM5c+aobdu21g61vf7662rTpo1+//vfq2rVqvrwww/10EMPKT8/XxMnTnTNW7Jkie655x61adNGM2bMUEREhHbv3q21a9cW+w+kMUa///3vtXHjRo0fP14dOnTQunXr9Mgjj+jo0aOaN2+e2/wtW7ZoxYoVeuihh1SzZk29/PLLuuOOO3TkyBHVqVOnVP2MHDlSf/3rX/Xss8/K4XDo559/1qeffqq33367yLD25JNPKjExUXFxcXrwwQeVnp6u119/XTt27NDnn3+uwMBAjRgxQvPnz9fHH3+s4cOHu5YtOOw1duzYy560n5SUpGrVqmn69On69ttv9corrygwMFBVqlTRL7/8oieffFLbtm3TkiVL1LRpUz3xxBPFruvs2bPq1auXjh49qvvvv1+NGjXS1q1bNWPGDGVkZBQ6H2fp0qU6deqU7r//fjkcDs2ePVu33367vvvuOwUGBur+++/Xjz/+qOTkZL399ttuy5Z1Gxbn9ttv1wMPPKAVK1bonnvucdXVsmVLdezYsdw9GmM0dOhQbdmyRQ888IBatWqllStXasyYMaWq695779Vbb72lYcOGaerUqdq+fbuSkpK0f/9+rVy5slTrOHHiRKGxqlWrlniIMDk5WQcPHtS4ceMUFRWlvXv3auHChdq3b5+2bdvmCoIPPPCA3n//fU2aNEmtW7fW8ePHtWXLFu3fv18dO3bUo48+quzsbP373/92bYuSzjP8+uuv1aNHDwUGBuq+++5TkyZNdPDgQX344Yd65plnJEn79u1Tjx49FBYWpmnTpikwMFBvvPGGevfurU2bNqlr166lel3ghwxg2aeffmoCAgJMQECAiY2NNdOmTTPr1q0z58+fLzS3cePGZsyYMa77ixcvNpLMgAEDTH5+vms8NjbWOBwO88ADD7jGLly4YBo2bGh69erlGtu4caORZDZu3Oj2PIcOHTKSzOLFi11jM2fONJd+BM6ePVuoxgEDBphmzZq57p88edLUrFnTdO3a1fz6669uc39b85gxY0zjxo1d91etWmUkmaefftptmWHDhhmHw2G+/fZb15gkExQU5Db21VdfGUnmlVdeKVRjUb3OmTPH7N2710gy//jHP4wxxsyfP9/UqFHDnDlzxowZM8ZUr17dtdyxY8dMUFCQ6d+/v8nLy3ONv/rqq0aSWbRokavHBg0amDvuuMPted977z0jyWzevNk11qtXryK3T9u2bd3eDyNHjjQOh8PceuutbuuMjY11ew2NKfyemTVrlqlevbr517/+5TZv+vTpJiAgwBw5csTtdalTp445ceKEa97q1auNJPPhhx+6xiZOnFjovWFM2bZhUX77mg8bNsz07dvXGGNMXl6eiYqKMomJiW7br6w9FtQ3e/Zs15wLFy6YHj16XPb9n5aWZiSZe++91+05/vM//9NIMhs2bCixt4L1FXVr0aKFa15Rn8XTp08XWt9f//rXQu+n8PBwM3HixBLrGDx4cKH3THHP27NnT1OzZk1z+PBht7m//RzHx8eboKAgc/DgQdfYjz/+aGrWrGl69uxZYi3wbxwihHX9+vVTamqqfv/73+urr77S7NmzNWDAADVo0EAffPBBqdYxfvx4t8MXXbt2lTFG48ePd40FBASoc+fO+u6776zVXq1aNdf/z87O1s8//6xevXrpu+++U3Z2tqSLf22fOnVK06dPL3ROR0lfe1+zZo0CAgL0xz/+0W186tSpMsbok08+cRuPi4vTtdde67rfrl07hYWFlanfNm3aqF27dnrnnXckXdxLMnToUIWGhhaa+9lnn+n8+fNKSEhwO4l8woQJCgsL08cff+zqcfjw4VqzZo1Onz7tmrds2TI1aNBA3bt3v2xdo0ePdjtHrWD7FuzN+e34Dz/8oAsXLhS7ruXLl6tHjx6qVauWfv75Z9ctLi5OeXl52rx5s9v8ESNGqFatWq77PXr0kKRSva5l3YYlGTVqlFJSUpSZmakNGzYoMzOz2L2fpe1xzZo1qlq1qh588EHXsgEBAW5fLCmpN0mFTjCfOnWqJLm2/+X8/e9/V3Jysttt8eLFJS5TvXp11/83xujcuXPq37+/JLkO/0kXT5Tfvn27fvzxx1LVUpKffvpJmzdv1j333KNGjRq5PVbwOc7Ly9Onn36q+Ph4NWvWzPV4dHS0Ro0apS1btignJ+eKa4Fv4hAhKkSXLl20YsUKnT9/Xl999ZVWrlypefPmadiwYUpLS1Pr1q1LXP7S/+CFh4dLkmJiYgqN//LLL9bq/vzzzzVz5kylpqYWOscoOztb4eHhOnjwoCSV+fDn4cOHVb9+fdWsWdNtvFWrVq7Hf+vS10CSatWqVeZ+R40apeeff15/+tOftHXrVv3lL38ptj5JatGihdt4UFCQmjVr5lbfiBEj9OKLL+qDDz7QqFGjdPr0aa1Zs8Z12O1yyrJ98/PzlZ2dXexh0QMHDujrr79W3bp1i3z80i9WXPrcBWGrNK9rWbdhSQYNGqSaNWtq2bJlSktLU5cuXdS8eXN9//33heaWtsfDhw8rOjq60GGxS7dpUQ4fPqwqVaqoefPmbuNRUVGKiIgodW89e/Ys80nu2dnZevbZZ7Vs2TIdPXpU58+fd3uswOzZszVmzBjFxMSoU6dOGjRokEaPHu0WfkqrIFCX9Dn+6aefdPbs2SJfv1atWik/P18//PCD2rRpU+bnh+8jYKFCBQUFqUuXLurSpYuuv/56jRs3TsuXL9fMmTNLXK64c3iKGje/Obm4uH/cS3Ol9IMHD6pv375q2bKlXnjhBcXExCgoKEhr1qzRvHnzir3kQkUp7jUwZTiZWrp4HtaMGTM0YcIE1alTx7Vn4ErcfPPNatKkid577z2NGjVKH374oX799VeNGDGiVMuXZftKJfecn5+vfv36adq0aUU+fv3111/xc1SE4OBg3X777Xrrrbf03XfflXhJiLL2eCU8cfHRESNG6PPPP9djjz2mjh07qkaNGsrLy1OPHj3cPnd33nmnevTooZUrV+rTTz/VnDlz9Nxzz2nFihW69dZbK71uoCQELFSazp07S5IyMjIq7DkK9kZc+q2p0vz1/eGHHyo3N1cffPCB216OjRs3us0rOGy3d+/eQn/tl6Rx48b67LPPdOrUKbc9IN98843r8YrQqFEj3XLLLUpJSdGDDz5Y7FfzC54/PT3dbY/A+fPndejQoUKXlrjzzjv10ksvKScnR8uWLVOTJk108803V0gPJbn22mt1+vRpq5e+KC5k2N6Go0aN0qJFi1SlShXdddddxc4rbY+NGzfW+vXrdfr0abe9WOnp6ZetpXHjxsrPz9eBAwdce+QkKSsrSydPnqyw9+fJkye1bt06Pf300/rzn//sGv/Xv/5V5Pzo6Gg99NBDeuihh3Ts2DF17NhRzzzzjCtglTYgFrzH9+7dW+ycunXrKjQ0tMjX75tvvlGVKlUK7XUFCnAOFqzbuHFjkXsDCs7xKM3hivJq3LixAgICCp1389prr1122YI9G7+tPTs7u9D5I/3791fNmjWVlJRU6IKQJe0FGTRokPLy8vTqq6+6jc+bN08Oh6NC/wJ/+umnNXPmzBLPxYmLi1NQUJBefvlltz7+53/+R9nZ2Ro8eLDb/BEjRig3N1dvvfWW1q5dW+iaTpXlzjvvVGpqqtatW1fosZMnT5Z4/lZxCs4JujSo296Gffr00axZs/Tqq68qKiqq2Hml7XHQoEG6cOGC26VF8vLySvULCgW/KHDpty5feOEFSSq0/W0pON/P6XS6jT///PNu9/Py8twOF0oXL/tSv359t8tIVK9evdC8otStW1c9e/bUokWLdOTIEbfHCt7/AQEB6t+/v1avXu126DYrK0tLly5V9+7dFRYWdvkm4ZfYgwXrJk+erLNnz+q2225Ty5Ytdf78eW3dutW1l2PcuHEV9tzh4eEaPny4XnnlFTkcDl177bX66KOPSvWjsf3791dQUJCGDBmi+++/X6dPn9Z///d/q169em573cLCwjRv3jzde++96tKli0aNGqVatWrpq6++0tmzZ/XWW28Vuf4hQ4aoT58+evTRR/X999+rffv2+vTTT7V69WolJCS4ndBuW69evdSrV68S59StW1czZsxQYmKiBg4cqN///vdKT0/Xa6+9pi5duuj//b//5za/Y8eOat68uR599FHl5uaW+vCgbY888og++OAD/cd//IfGjh2rTp066cyZM9qzZ4/ef/99ff/992U+J6hTp06SpD/+8Y8aMGCAAgICdNddd1nfhlWqVCl0pf0r6XHIkCG65ZZbNH36dH3//fdq3bq1VqxYUarA0b59e40ZM0YLFy7UyZMn1atXL33xxRd66623FB8frz59+pSqp/fff7/ISyP069dPkZGRhcbDwsLUvXt3zZkzRxcuXFCDBg20bt26QqHn1KlTatiwoYYNG6b27durRo0a+uyzz7Rjxw63MNapUyctW7ZMU6ZMUZcuXVSjRg0NGTKkyFpffvllde/eXR07dtR9992npk2b6vvvv9fHH3+stLQ0SRf/OElOTlb37t310EMPqWrVqnrjjTeUm5ur2bNnl+o1gZ/yxFcX4ds++eQTc88995iWLVuaGjVqmKCgINO8eXMzefJkk5WV5Ta3uMs07Nixw21ewVfAf/rpJ7fxSy81YIwxP/30k7njjjtMaGioqVWrlrn//vtdlyu43GUaPvjgA9OuXTsTEhJimjRpYp577jmzaNEiI8kcOnSo0Nxu3bqZatWqmbCwMHPTTTeZd955x622S78ufurUKfOnP/3J1K9f3wQGBprrrrvOzJkzx+1r4cZcvExDUV9Hv/T1KkpRX/MvSlGvnTEXL8vQsmVLExgYaCIjI82DDz5ofvnllyLX8eijjxpJpnnz5kU+XtxlGpYvX+42ryzbvajX4NSpU2bGjBmmefPmJigoyFxzzTWmW7duZu7cua7LQZT0ukgyM2fOdN2/cOGCmTx5sqlbt65xOBxu75PSbsOiFPea/1ZxdZamR2OMOX78uPnDH/5gwsLCTHh4uPnDH/5gdu/eXar3v9PpNImJiaZp06YmMDDQxMTEmBkzZphz585dtreSLtOg31w6pajLJRw5csTEx8eb8PBwExERYe666y6TmZnptl1yc3PNI488Ytq3b29q1qxpqlevbtq3b29ee+01tzpOnz5tRo0aZSIiIowk12ewqOc1xpi9e/ea2267zURERJiQkBDTokUL8/jjj7vN+fLLL82AAQNMjRo1TGhoqOnTp4/ZunXrZV8T+DeHMZV8ZicAAICP4xwsAAAAywhYAAAAlhGwAAAALPPagPX666+7fjokLCxMsbGxl/2ZiuXLl6tly5YKCQnRDTfc4LpsAAAAgE1eG7AaNmyoZ599Vrt27dLOnTv1u9/9TkOHDtW+ffuKnL9161aNHDlS48eP1+7duxUfH6/4+PgSLzIHAABQHj71LcLatWtrzpw5bj8IXGDEiBE6c+aMPvroI9fYzTffrA4dOmjBggWVWSYAAPBxPnGh0by8PC1fvlxnzpxRbGxskXNSU1ML/Ur8gAEDtGrVqhLXnZub63aV4Pz8fJ04cUJ16tTxyG92AQDgTYwxOnXqlOrXr++6cr8/8OqAtWfPHsXGxurcuXOqUaOGVq5cqdatWxc5NzMzs9BVhCMjI5WZmVnicyQlJSkxMdFazQAA+KMffvhBDRs29HQZlcarA1aLFi2Ulpam7Oxsvf/++xozZow2bdpUbMgqjxkzZrjt+crOzlajRo30r3/9S7Vr17b2PFcTp9OpjRs3qk+fPgoMDPR0ORWGPn2LP/TpDz1K9OlrTpw4oeuvv97tB9L9gVcHrKCgIDVv3lzSxd+f2rFjh1566SW98cYbheZGRUUpKyvLbSwrK6vEH1iVpODgYAUHBxcar127turUqXMF1V+9nE6nQkNDVadOHZ/+0NOnb/GHPv2hR4k+fZW/nVbjUwdD8/Pz3c6X+q3Y2FitX7/ebSw5ObnYc7YAAADKy2v3YM2YMUO33nqrGjVqpFOnTmnp0qVKSUnRunXrJEmjR49WgwYNlJSUJEl6+OGH1atXLz3//PMaPHiw3n33Xe3cuVMLFy70ZBsAAMAHeW3AOnbsmEaPHq2MjAyFh4erXbt2Wrdunfr16ydJOnLkiNu3Fbp166alS5fqscce01/+8hddd911WrVqldq2beupFgAAgI/y2oD1P//zPyU+npKSUmhs+PDhGj58eAVVBAAAcJFPnYMFAABwNSBgAQAAWEbAAgAAsIyABQAAYBkBCwAAwDICFgAAgGUELAAAAMsIWAAAAJYRsAAAACwjYAEAAFhGwAIAALCMgAUAAGAZAQsAAMAyAhYAAIBlBCwAAADLCFgAAACWEbAAAAAsI2ABAABYRsACAACwjIAFAABgGQELAADAMgIWAACAZQQsAAAAywhYAAAAlhGwAAAALCNgAQAAWEbAAgAAsIyABQAAYBkBCwAAwDICFgAAgGUELAAAAMsIWAAAAJYRsAAAACwjYAEAAFhGwAIAALCMgAUAAGAZAQsAAMAyAhYAAIBlBCwAAADLCFgAAACWEbAAAAAsI2ABAABYRsACAACwjIAFAABgGQELAADAMgIWAACAZV4bsJKSktSlSxfVrFlT9erVU3x8vNLT00tcZsmSJXI4HG63kJCQSqoYAAD4C68NWJs2bdLEiRO1bds2JScny+l0qn///jpz5kyJy4WFhSkjI8N1O3z4cCVVDAAA/EVVTxdQXmvXrnW7v2TJEtWrV0+7du1Sz549i13O4XAoKiqqossDAAB+zGv3YF0qOztbklS7du0S550+fVqNGzdWTEyMhg4dqn379lVGeQAAwI947R6s38rPz1dCQoJuueUWtW3btth5LVq00KJFi9SuXTtlZ2dr7ty56tatm/bt26eGDRsWuUxubq5yc3Nd93NyciRJTqdTTqfTbiNXiYK+ytNfXp6UmiplZkpRUVJsrBQQYLtCO66kT29Cn77DH3qU6NPX+Hp/xXEYY4yni7hSDz74oD755BNt2bKl2KBUFKfTqVatWmnkyJGaNWtWkXOefPJJJSYmFhpfunSpQkNDy10zAAD+4OzZsxo1apSys7MVFhbm6XIqjdcHrEmTJmn16tXavHmzmjZtWublhw8frqpVq+qdd94p8vGi9mDFxMQoIyNDderUKXfdVzOn06nk5GT169dPgYGBpVrmww+lP/xBuvTd5HBc/N+335aGDLFc6BUqT5/eiD59hz/0KNGnrzl+/Liio6P9LmB57SFCY4wmT56slStXKiUlpVzhKi8vT3v27NGgQYOKnRMcHKzg4OBC44GBgT79gZBK32NenvTww9LZs0U/7nBICQnS0KFX5+FCf9iWEn36En/oUaJPX+HLvZXEawPWxIkTtXTpUq1evVo1a9ZUZmamJCk8PFzVqlWTJI0ePVoNGjRQUlKSJOmpp57SzTffrObNm+vkyZOaM2eODh8+rHvvvddjffiCf/xD+ve/i3/cGOmHHy7O69270spCBcvLu7hNMzKk6GipR4+rM0ADgCd4bcB6/fXXJUm9L/kXe/HixRo7dqwk6ciRI6pS5f++KPnLL79owoQJyszMVK1atdSpUydt3bpVrVu3rqyyfVJGht15uPqtWHFxr+Vvg3XDhtJLL0m33+65ugDgauG1Aas0p46lpKS43Z83b57mzZtXQRX5r+hou/NwdVuxQho2rPD5dkePXhx//31CFgD4zHWw4Dk9elzce1FwQvulHA4pJubiPHi3gvPtivr7pmAsIeHiPADwZwQsXLGAgIuHhqTCIavg/osvcn6OLyjL+XYA4M8IWLDi9tsvHhpq0MB9vGFDDhn5Es63A4DS8dpzsHD1uf32i5di4Jtlvovz7QCgdAhYsCoggEsx+LKC8+2OHi36PCyH4+LjnG8HwN9xiBBAqXG+HQCUDgELQJlwvh0AXB6HCAGUGefbAUDJCFgAyoXz7QCgeBwiBAAAsIyABQAAYBkBCwAAwDICFgAAgGUELAAAAMsIWAAAAJYRsAAAACwjYAEAAFhGwAIAALCMgAUAAGAZAQsAAMAyAhYAAIBlBCwAAADLCFgAAACWEbAAAAAsI2ABAABYRsACAACwjIAFAABgWVVPFwDfkpcn/eMfUkaGFB0t9eghBQR4uioAACoXAQvWrFghPfyw9O9//99Yw4bSSy9Jt9/uuboAAKhsHCKEFStWSMOGuYcrSTp69OL4ihWeqQsAAE8gYOGK5eVd3HNlTOHHCsYSEi7OAwDAHxCwcMX+8Y/Ce65+yxjphx8uzgMAwB8QsHDFMjLszgMAwNsRsHDFoqPtzgMAwNsRsHDFevS4+G1Bh6Poxx0OKSbm4jwAAPwBAQtXLCDg4qUYpMIhq+D+iy9yPSwAgP8gYMGK22+X3n9fatDAfbxhw4vjXAcLAOBPuNAorLn9dmnoUK7kDgAAAQtWBQRIvXt7ugoAADyLQ4QAAACWEbAAAAAsI2ABAABYRsACAACwjIAFAABgGQELAADAMgIWAACAZQQsAAAAy7w2YCUlJalLly6qWbOm6tWrp/j4eKWnp192ueXLl6tly5YKCQnRDTfcoDVr1lRCtQAAwJ94bcDatGmTJk6cqG3btik5OVlOp1P9+/fXmTNnil1m69atGjlypMaPH6/du3crPj5e8fHx2rt3byVWDgAAfJ3X/lTO2rVr3e4vWbJE9erV065du9SzZ88il3nppZc0cOBAPfLII5KkWbNmKTk5Wa+++qoWLFhQ4TUDAAD/4LV7sC6VnZ0tSapdu3axc1JTUxUXF+c2NmDAAKWmplZobQAAwL947R6s38rPz1dCQoJuueUWtW3btth5mZmZioyMdBuLjIxUZmZmscvk5uYqNzfXdT8nJ0eS5HQ65XQ6r7Dyq1NBX77aXwH69C3+0Kc/9CjRp6/x9f6K4xMBa+LEidq7d6+2bNlifd1JSUlKTEwsNL5x40aFhoZaf76rSXJysqdLqBT06Vv8oU9/6FGiT19x9uxZT5fgEV4fsCZNmqSPPvpImzdvVsOGDUucGxUVpaysLLexrKwsRUVFFbvMjBkzNGXKFNf9nJwcxcTEqE+fPqpTp86VFX+VcjqdSk5OVr9+/RQYGOjpcioMffoWf+jTH3qU6NPXHD9+3NMleITXBixjjCZPnqyVK1cqJSVFTZs2vewysbGxWr9+vRISElxjycnJio2NLXaZ4OBgBQcHFxoPDAz06Q+E5B89SvTpa/yhT3/oUaJPX+HLvZXEawPWxIkTtXTpUq1evVo1a9Z0nUcVHh6uatWqSZJGjx6tBg0aKCkpSZL08MMPq1evXnr++ec1ePBgvfvuu9q5c6cWLlzosT4AAIDv8dpvEb7++uvKzs5W7969FR0d7botW7bMNefIkSPKyMhw3e/WrZuWLl2qhQsXqn379nr//fe1atWqEk+MBwAAKCuv3YNljLnsnJSUlEJjw4cP1/DhwyugIgAAgIu8dg8WAADA1YqABQAAYBkBCwAAwDICFgAAgGUELAAAAMsIWAAAAJYRsAAAACwjYAEAAFhGwAIAALCMgAUAAGAZAQsAAMAyAhYAAIBlBCwAAADLCFgAAACWEbAAAAAsI2ABAABYRsACAACwjIAFAABgGQELAADAMgIWAACAZQQsAAAAywhYAAAAlhGwAAAALCNgAQAAWEbAAgAAsIyABQAAYBkBCwAAwDICFgAAgGUELAAAAMsIWAAAAJYRsAAAACwjYAEAAFhGwAIAALCMgAUAAGAZAQsAAMAyAhYAAIBlBCwAAADLCFgAAACWEbAAAAAsI2ABAABYRsACAACwjIAFAABgGQELAADAMgIWAACAZQQsAAAAywhYAAAAlhGwAAAALPPagLV582YNGTJE9evXl8Ph0KpVq0qcn5KSIofDUeiWmZlZOQUDAAC/4bUB68yZM2rfvr3mz59fpuXS09OVkZHhutWrV6+CKgQAAP6qqqcLKK9bb71Vt956a5mXq1evniIiIuwXBAAA8P/z2oBVXh06dFBubq7atm2rJ598UrfcckuJ83Nzc5Wbm+u6n5OTI0lyOp1yOp0VWqunFPTlq/0VoE/f4g99+kOPEn36Gl/vrzgOY4zxdBFXyuFwaOXKlYqPjy92Tnp6ulJSUtS5c2fl5ubqzTff1Ntvv63t27erY8eOxS735JNPKjExsdD40qVLFRoaaqN8AAB81tmzZzVq1ChlZ2crLCzM0+VUGr8JWEXp1auXGjVqpLfffrvYOUXtwYqJiVFGRobq1KlT3pKvak6nU8nJyerXr58CAwM9XU6FoU/f4g99+kOPEn36muPHjys6OtrvApbfHSL8rZtuuklbtmwpcU5wcLCCg4MLjQcGBvr0B0Lyjx4l+vQ1/tCnP/Qo0aev8OXeSuK13yK0IS0tTdHR0Z4uAwAA+Biv3YN1+vRpffvtt677hw4dUlpammrXrq1GjRppxowZOnr0qP73f/9XkvTiiy+qadOmatOmjc6dO6c333xTGzZs0KeffuqpFgAAgI/y2oC1c+dO9enTx3V/ypQpkqQxY8ZoyZIlysjI0JEjR1yPnz9/XlOnTtXRo0cVGhqqdu3a6bPPPnNbBwAAgA1eG7B69+6tks7PX7Jkidv9adOmadq0aRVcFQAAgJ+fgwUAAFARCFgAAACWEbAAAAAsI2ABAABYRsACAACwjIAFAABgGQELAADAMgIWAACAZQQsAAAAywhYAAAAlhGwAAAALCNgAQAAWEbAAgAAsIyABQAAYBkBCwAAwDICFgAAgGUELAAAAMsIWAAAAJYRsAAAACwjYAEAAFhGwAIAALCMgAUAAGAZAQsAAMAyAhYAAIBlBCwAAADLCFgAAACWEbAAAAAsI2ABAABYRsACAACwjIAFAABgGQELAADAMgIWAACAZQQsAAAAywhYAAAAlhGwAAAALCNgAQAAWEbAAgAAsIyABQAAYBkBCwAAwDICFgAAgGUELAAAAMsIWAAAAJYRsAAAACwjYAEAAFhGwAIAALCMgAUAAGCZ1waszZs3a8iQIapfv74cDodWrVp12WVSUlLUsWNHBQcHq3nz5lqyZEmF1wkAAPyP1wasM2fOqH379po/f36p5h86dEiDBw9Wnz59lJaWpoSEBN17771at25dBVcKAAD8TVVPF1Bet956q2699dZSz1+wYIGaNm2q559/XpLUqlUrbdmyRfPmzdOAAQMqqkwAAOCHvHYPVlmlpqYqLi7ObWzAgAFKTU31UEUAAMBXee0erLLKzMxUZGSk21hkZKRycnL066+/qlq1akUul5ubq9zcXNf9nJwcSZLT6ZTT6ay4gj2ooC9f7a8AffoWf+jTH3qU6NPX+Hp/xfGbgFVeSUlJSkxMLDS+ceNGhYaGeqCiypOcnOzpEioFffoWf+jTH3qU6NNXnD171tMleITfBKyoqChlZWW5jWVlZSksLKzYvVeSNGPGDE2ZMsV1PycnRzExMerTp4/q1KlTYfV6ktPpVHJysvr166fAwEBPl1Nh6NO3+EOf/tCjRJ++5vjx454uwSP8JmDFxsZqzZo1bmPJycmKjY0tcbng4GAFBwcXGg8MDPTpD4TkHz1K9Olr/KFPf+hRok9f4cu9lcRrT3I/ffq00tLSlJaWJuniZRjS0tJ05MgRSRf3PI0ePdo1/4EHHtB3332nadOm6ZtvvtFrr72m9957T3/60588UT4AAPBhXhuwdu7cqRtvvFE33nijJGnKlCm68cYb9cQTT0iSMjIyXGFLkpo2baqPP/5YycnJat++vZ5//nm9+eabXKIBAABY57WHCHv37i1jTLGPF3WV9t69e2v37t0VWBUAAIAX78ECAAC4WhGwAAAALCNgAQAAWEbAAgAAsIyABQAAYBkBCwAAwDICFgAAgGUELAAAAMsIWAAAAJYRsAAAACwjYAEAAFhGwAIAALCMgAUAAGAZAQsAAMAyAhYAAIBlBCwAAADLCFgAAACWEbAAAAAsI2ABAABYRsACAACwjIAFAABgGQELAADAMgIWAACAZQQsAAAAywhYAAAAlhGwAAAALCNgAQAAWEbAAgAAsIyABQAAYBkBCwAAwDICFgAAgGUELAAAAMsIWAAAAJYRsAAAACwjYAEAAFhGwAIAALCMgAUAAGAZAQsAAMAyAhYAAIBlBCwAAADLCFgAAACWEbAAAAAsI2ABAABYRsACAACwjIAFAABgGQELAADAMgIWAACAZV4fsObPn68mTZooJCREXbt21RdffFHs3CVLlsjhcLjdQkJCKrFaAADgD7w6YC1btkxTpkzRzJkz9eWXX6p9+/YaMGCAjh07VuwyYWFhysjIcN0OHz5ciRUDAAB/4NUB64UXXtCECRM0btw4tW7dWgsWLFBoaKgWLVpU7DIOh0NRUVGuW2RkZCVWDAAA/IHXBqzz589r165diouLc41VqVJFcXFxSk1NLXa506dPq3HjxoqJidHQoUO1b9++yigXAAD4kaqeLqC8fv75Z+Xl5RXaAxUZGalvvvmmyGVatGihRYsWqV27dsrOztbcuXPVrVs37du3Tw0bNixymdzcXOXm5rru5+TkSJKcTqecTqelbq4uBX35an8F6NO3+EOf/tCjRJ++xtf7K47DGGM8XUR5/Pjjj2rQoIG2bt2q2NhY1/i0adO0adMmbd++/bLrcDqdatWqlUaOHKlZs2YVOefJJ59UYmJiofGlS5cqNDS0/A0AAOAHzp49q1GjRik7O1thYWGeLqfSeO0erGuuuUYBAQHKyspyG8/KylJUVFSp1hEYGKgbb7xR3377bbFzZsyYoSlTprju5+TkKCYmRn369FGdOnXKV/xVzul0Kjk5Wf369VNgYKCny6kw9Olb/KFPf+hRok9fc/z4cU+X4BFeG7CCgoLUqVMnrV+/XvHx8ZKk/Px8rV+/XpMmTSrVOvLy8rRnzx4NGjSo2DnBwcEKDg4uNB4YGOjTHwjJP3qU6NPX+EOf/tCjRJ++wpd7K4nXBixJmjJlisaMGaPOnTvrpptu0osvvqgzZ85o3LhxkqTRo0erQYMGSkpKkiQ99dRTuvnmm9W8eXOdPHlSc+bM0eHDh3Xvvfd6sg0AAOBjvDpgjRgxQj/99JOeeOIJZWZmqkOHDlq7dq3rxPcjR46oSpX/+6LkL7/8ogkTJigzM1O1atVSp06dtHXrVrVu3dpTLQAAAB/k1QFLkiZNmlTsIcGUlBS3+/PmzdO8efMqoSoAAODPvPY6WAAAAFcrAhYAAIBlBCwAAADLCFgAAACWEbAAAAAsI2ABAABYRsACAACwjIAFAABgGQELAADAMgIWAACAZQQsAAAAywhYAAAAlhGwAAAALCNgAQAAWEbAAgAAsIyABQAAYBkBCwAAwDICFgAAgGUELAAAAMsIWAAAAJYRsAAAACwjYAEAAFhGwAIAALCMgAUAAGAZAQsAAMAyAhYAAIBlBCwAAADLCFgAAACWEbAAAAAsI2ABAABYRsACAACwjIAFAABgGQELAADAMgIWAACAZQQsAAAAywhYAAAAlhGwAAAALCNgAQAAWEbAAgAAsIyABQAAYBkBCwAAwDICFgAAgGUELAAAAMsIWAAAAJYRsAAAACwjYAEAAFhGwAIAALDM6wPW/Pnz1aRJE4WEhKhr16764osvSpy/fPlytWzZUiEhIbrhhhu0Zs2aSqoUAAD4C68OWMuWLdOUKVM0c+ZMffnll2rfvr0GDBigY8eOFTl/69atGjlypMaPH6/du3crPj5e8fHx2rt3byVXDgAAfJlXB6wXXnhBEyZM0Lhx49S6dWstWLBAoaGhWrRoUZHzX3rpJQ0cOFCPPPKIWrVqpVmzZqljx4569dVXK7lyAADgy7w2YJ0/f167du1SXFyca6xKlSqKi4tTampqkcukpqa6zZekAQMGFDsfAACgPKp6uoDy+vnnn5WXl6fIyEi38cjISH3zzTdFLpOZmVnk/MzMzGKfJzc3V7m5ua77OTk5kiSn0ymn01ne8q9qBX35an8F6NO3+EOf/tCjRJ++xtf7K47XBqzKkpSUpMTExELjGzduVGhoqAcqqjzJycmeLqFS0Kdv8Yc+/aFHiT59xdmzZz1dgkd4bcC65pprFBAQoKysLLfxrKwsRUVFFblMVFRUmeZL0owZMzRlyhTX/ZycHMXExKhPnz6qU6fOFXRw9XI6nUpOTla/fv0UGBjo6XIqDH36Fn/o0x96lOjT1xw/ftzTJXiE1wasoKAgderUSevXr1d8fLwkKT8/X+vXr9ekSZOKXCY2Nlbr169XQkKCayw5OVmxsbHFPk9wcLCCg4MLjQcGBvr0B0Lyjx4l+vQ1/tCnP/Qo0aev8OXeSuK1AUuSpkyZojFjxqhz58666aab9OKLL+rMmTMaN26cJGn06NFq0KCBkpKSJEkPP/ywevXqpeeff16DBw/Wu+++q507d2rhwoWebAMAAPgYrw5YI0aM0E8//aQnnnhCmZmZ6tChg9auXes6kf3IkSOqUuX/vijZrVs3LV26VI899pj+8pe/6LrrrtOqVavUtm1bT7UAAAB8kFcHLEmaNGlSsYcEU1JSCo0NHz5cw4cPr+CqAACAP/Pa62ABAABcrQhYAAAAlhGwAAAALCNgAQAAWEbAAgAAsIyABQAAYBkBCwAAwDICFgAAgGUELAAAAMsIWAAAAJYRsAAAACwjYAEAAFhGwAIAALCMgAUAAGAZAQsAAMAyAhYAAIBlBCwAAADLCFgAAACWEbAAAAAsI2ABAABYRsACAACwjIAFAABgGQELAADAMgIWAACAZQQsAAAAywhYAAAAlhGwAAAALCNgAQAAWEbAAgAAsIyABQAAYBkBCwAAwDICFgAAgGUELAAAAMsIWAAAAJYRsAAAACwjYAEAAFhGwAIAALCMgAUAAGAZAQsAAMAyAhYAAIBlBCwAAADLCFgAAACWEbAAAAAsI2ABAABYRsACAACwjIAFAABgGQELAADAMq8NWCdOnNDdd9+tsLAwRUREaPz48Tp9+nSJy/Tu3VsOh8Pt9sADD1RSxQAAwF9U9XQB5XX33XcrIyNDycnJcjqdGjdunO677z4tXbq0xOUmTJigp556ynU/NDS0oksFAAB+xisD1v79+7V27Vrt2LFDnTt3liS98sorGjRokObOnav69esXu2xoaKiioqIqq1QAAOCHvDJgpaamKiIiwhWuJCkuLk5VqlTR9u3bddtttxW77N/+9jf99a9/VVRUlIYMGaLHH3+8xL1Yubm5ys3Ndd3PycmRJDmdTjmdTgvdXH0K+vLV/grQp2/xhz79oUeJPn2Nr/dXHK8MWJmZmapXr57bWNWqVVW7dm1lZmYWu9yoUaPUuHFj1a9fX19//bX+/Oc/Kz09XStWrCh2maSkJCUmJhYa37hxo88fXkxOTvZ0CZWCPn2LP/TpDz1K9Okrzp496+kSPOKqCljTp0/Xc889V+Kc/fv3l3v99913n+v/33DDDYqOjlbfvn118OBBXXvttUUuM2PGDE2ZMsV1PycnRzExMerTp4/q1KlT7lquZk6nU8nJyerXr58CAwM9XU6FoU/f4g99+kOPEn36muPHj3u6BI+4qgLW1KlTNXbs2BLnNGvWTFFRUTp27Jjb+IULF3TixIkynV/VtWtXSdK3335bbMAKDg5WcHBwofHAwECf/kBI/tGjRJ++xh/69IceJfr0Fb7cW0muqoBVt25d1a1b97LzYmNjdfLkSe3atUudOnWSJG3YsEH5+fmu0FQaaWlpkqTo6Ohy1QsAAFAUr7wOVqtWrTRw4EBNmDBBX3zxhT7//HNNmjRJd911l+sbhEePHlXLli31xRdfSJIOHjyoWbNmadeuXfr+++/1wQcfaPTo0erZs6fatWvnyXYAAICP8cqAJV38NmDLli3Vt29fDRo0SN27d9fChQtdjzudTqWnp7tOrgsKCtJnn32m/v37q2XLlpo6daruuOMOffjhh55qAQAA+Kir6hBhWdSuXbvEi4o2adJExhjX/ZiYGG3atKkySgMAAH7Oa/dgAQAAXK0IWAAAAJYRsAAAACwjYAEAAFhGwAIAALCMgAUAAGAZAQsAAMAyAhYAAIBlBCwAAADLCFgAAACWEbAAAAAsI2ABAABYRsACAACwjIAFAABgGQELAADAMgIWAACAZQQsAAAAywhYAAAAlhGwAAAALCNgAQAAWEbAAgAAsIyABQAAYBkBCwAAwDICFgAAgGUELAAAAMsIWAAAAJYRsAAAACwjYAEAAFhGwAIAALCMgAUAAGAZAQsAAMAyAhYAAIBlBCwAAADLCFgAAACWEbAAAAAsI2ABAABYRsACAACwjIAFAABgGQELAADAMgIWAACAZQQsAAAAywhYAAAAlhGwAAAALCNgAQAAWEbAAgAAsIyABQAAYBkBCwAAwDKvDVjPPPOMunXrptDQUEVERJRqGWOMnnjiCUVHR6tatWqKi4vTgQMHKrZQAADgd7w2YJ0/f17Dhw/Xgw8+WOplZs+erZdfflkLFizQ9u3bVb16dQ0YMEDnzp2rwEoBAIC/qerpAsorMTFRkrRkyZJSzTfG6MUXX9Rjjz2moUOHSpL+93//V5GRkVq1apXuuuuuiioVAAD4Ga8NWGV16NAhZWZmKi4uzjUWHh6url27KjU1tdiAlZubq9zcXNf97OxsSdKJEycqtmAPcjqdOnv2rI4fP67AwEBPl1Nh6NO3+EOf/tCjRJ++puDfS2OMhyupXH4TsDIzMyVJkZGRbuORkZGux4qSlJTk2lv2W9dff73dAgEA8GHHjx9XeHi4p8uoNFdVwJo+fbqee+65Eufs379fLVu2rKSKpBkzZmjKlCmu+ydPnlTjxo115MgRn32j5OTkKCYmRj/88IPCwsI8XU6FoU/f4g99+kOPEn36muzsbDVq1Ei1a9f2dCmV6qoKWFOnTtXYsWNLnNOsWbNyrTsqKkqSlJWVpejoaNd4VlaWOnToUOxywcHBCg4OLjQeHh7u0x8ISQoLC/P5HiX69DX+0Kc/9CjRp6+pUsVrv1dXLldVwKpbt67q1q1bIetu2rSpoqKitH79elegysnJ0fbt28v0TUQAAIDL8do4eeTIEaWlpenIkSPKy8tTWlqa0tLSdPr0adecli1bauXKlZIkh8OhhIQEPf300/rggw+0Z88ejR49WvXr11d8fLyHugAAAL7oqtqDVRZPPPGE3nrrLdf9G2+8UZK0ceNG9e7dW5KUnp7u+tafJE2bNk1nzpzRfffdp5MnT6p79+5au3atQkJCSv28wcHBmjlzZpGHDX2FP/Qo0aev8Yc+/aFHiT59jb/0eSmH8bfvTQIAAFQwrz1ECAAAcLUiYAEAAFhGwAIAALCMgAUAAGAZAesynnnmGXXr1k2hoaGKiIgo1TLGGD3xxBOKjo5WtWrVFBcXpwMHDlRsoVfoxIkTuvvuuxUWFqaIiAiNHz/e7ZIXRendu7ccDofb7YEHHqikiktn/vz5atKkiUJCQtS1a1d98cUXJc5fvny5WrZsqZCQEN1www1as2ZNJVV6ZcrS55IlSwptt7J8k9YTNm/erCFDhqh+/fpyOBxatWrVZZdJSUlRx44dFRwcrObNm5f6h+E9qax9pqSkFNqWDoejxJ//8rSkpCR16dJFNWvWVL169RQfH6/09PTLLudtn83y9OmNn83XX39d7dq1c10sNTY2Vp988kmJy3jbtiwvAtZlnD9/XsOHDy/TxUhnz56tl19+WQsWLND27dtVvXp1DRgwQOfOnavASq/M3XffrX379ik5OVkfffSRNm/erPvuu++yy02YMEEZGRmu2+zZsyuh2tJZtmyZpkyZopkzZ+rLL79U+/btNWDAAB07dqzI+Vu3btXIkSM1fvx47d69W/Hx8YqPj9fevXsrufKyKWuf0sUrR/92ux0+fLgSKy67M2fOqH379po/f36p5h86dEiDBw9Wnz59lJaWpoSEBN17771at25dBVd6ZcraZ4H09HS37VmvXr0KqvDKbdq0SRMnTtS2bduUnJwsp9Op/v3768yZM8Uu442fzfL0KXnfZ7Nhw4Z69tlntWvXLu3cuVO/+93vNHToUO3bt6/I+d64LcvNoFQWL15swsPDLzsvPz/fREVFmTlz5rjGTp48aYKDg80777xTgRWW3z//+U8jyezYscM19sknnxiHw2GOHj1a7HK9evUyDz/8cCVUWD433XSTmThxout+Xl6eqV+/vklKSipy/p133mkGDx7sNta1a1dz//33V2idV6qsfZb2vXy1kmRWrlxZ4pxp06aZNm3auI2NGDHCDBgwoAIrs6s0fW7cuNFIMr/88kul1FQRjh07ZiSZTZs2FTvHWz+bv1WaPr39s1mgVq1a5s033yzyMV/YlqXFHizLDh06pMzMTMXFxbnGwsPD1bVrV6WmpnqwsuKlpqYqIiJCnTt3do3FxcWpSpUq2r59e4nL/u1vf9M111yjtm3basaMGTp79mxFl1sq58+f165du9y2Q5UqVRQXF1fsdkhNTXWbL0kDBgy4arebVL4+Jen06dNq3LixYmJiSvxr01t547a8Eh06dFB0dLT69eunzz//3NPllEnBxaBL+iFgX9iepelT8u7PZl5ent59912dOXNGsbGxRc7xhW1ZWl57JferVcG5D5GRkW7jkZGRV+15EZmZmYUOKVStWlW1a9cuseZRo0apcePGql+/vr7++mv9+c9/Vnp6ulasWFHRJV/Wzz//rLy8vCK3wzfffFPkMpmZmV613aTy9dmiRQstWrRI7dq1U3Z2tubOnatu3bpp3759atiwYWWUXeGK25Y5OTn69ddfVa1aNQ9VZld0dLQWLFigzp07Kzc3V2+++aZ69+6t7du3q2PHjp4u77Ly8/OVkJCgW265RW3bti12njd+Nn+rtH1662dzz549io2N1blz51SjRg2tXLlSrVu3LnKut2/LsvDLgDV9+nQ999xzJc7Zv3+/WrZsWUkVVYzS9llevz1H64YbblB0dLT69u2rgwcP6tprry33elGxYmNj3f667Natm1q1aqU33nhDs2bN8mBlKKsWLVqoRYsWrvvdunXTwYMHNW/ePL399tserKx0Jk6cqL1792rLli2eLqVClbZPb/1stmjRQmlpacrOztb777+vMWPGaNOmTcWGLH/hlwFr6tSpGjt2bIlzmjVrVq51R0VFSZKysrIUHR3tGs/KylKHDh3Ktc7yKm2fUVFRhU6IvnDhgk6cOOHqpzS6du0qSfr22289HrCuueYaBQQEKCsry208Kyur2J6ioqLKNP9qUJ4+LxUYGKgbb7xR3377bUWU6BHFbcuwsDCf2XtVnJtuuskrAsukSZNcX6i53N4Zb/xsFihLn5fyls9mUFCQmjdvLknq1KmTduzYoZdeeklvvPFGobnevC3Lyi/Pwapbt65atmxZ4i0oKKhc627atKmioqK0fv1611hOTo62b99e7DHpilLaPmNjY3Xy5Ent2rXLteyGDRuUn5/vCk2lkZaWJkluwdJTgoKC1KlTJ7ftkJ+fr/Xr1xe7HWJjY93mS1JycnKlb7eyKE+fl8rLy9OePXuuiu1mizduS1vS0tKu6m1pjNGkSZO0cuVKbdiwQU2bNr3sMt64PcvT56W89bOZn5+v3NzcIh/zxm1Zbp4+y/5qd/jwYbN7926TmJhoatSoYXbv3m12795tTp065ZrTokULs2LFCtf9Z5991kRERJjVq1ebr7/+2gwdOtQ0bdrU/Prrr55ooVQGDhxobrzxRrN9+3azZcsWc91115mRI0e6Hv/3v/9tWrRoYbZv326MMebbb781Tz31lNm5c6c5dOiQWb16tWnWrJnp2bOnp1oo5N133zXBwcFmyZIl5p///Ke57777TEREhMnMzDTGGPOHP/zBTJ8+3TX/888/N1WrVjVz5841+/fvNzNnzjSBgYFmz549nmqhVMraZ2Jiolm3bp05ePCg2bVrl7nrrrtMSEiI2bdvn6dauKxTp065PnuSzAsvvGB2795tDh8+bIwxZvr06eYPf/iDa/53331nQkNDzSOPPGL2799v5s+fbwICAszatWs91UKplLXPefPmmVWrVpkDBw6YPXv2mIcffthUqVLFfPbZZ55q4bIefPBBEx4eblJSUkxGRobrdvbsWdccX/hslqdPb/xsTp8+3WzatMkcOnTIfP3112b69OnG4XCYTz/91BjjG9uyvAhYlzFmzBgjqdBt48aNrjmSzOLFi1338/PzzeOPP24iIyNNcHCw6du3r0lPT6/84svg+PHjZuTIkaZGjRomLCzMjBs3zi1EHjp0yK3vI0eOmJ49e5ratWub4OBg07x5c/PII4+Y7OxsD3VQtFdeecU0atTIBAUFmZtuusls27bN9VivXr3MmDFj3Oa/99575vrrrzdBQUGmTZs25uOPP67kisunLH0mJCS45kZGRppBgwaZL7/80gNVl17B5QguvRX0NWbMGNOrV69Cy3To0MEEBQWZZs2auX1Gr1Zl7fO5554z1157rQkJCTG1a9c2vXv3Nhs2bPBM8aVUVH+X/jfUFz6b5enTGz+b99xzj2ncuLEJCgoydevWNX379nWFK2N8Y1uWl8MYYyphRxkAAIDf8MtzsAAAACoSAQsAAMAyAhYAAIBlBCwAAADLCFgAAACWEbAAAAAsI2ABAABYRsACAACwjIAFoMx69+6thISECn+eFStWqH///qpTp44cDofr9y5/69y5c5o4caLq1KmjGjVq6I477ij0Y7KXMsboiSeeUHR0tKpVq6a4uDgdOHDAbc6JEyd09913KywsTBERERo/frxOnz5tsz0APoyABeCqdebMGXXv3l3PPfdcsXP+9Kc/6cMPP9Ty5cu1adMm/fjjj7r99ttLXO/s2bP18ssva8GCBdq+fbuqV6+uAQMG6Ny5c645d999t/bt26fk5GR99NFH2rx5s+677z5rvQHwcR7+qR4AXqao3+c8dOhQhT5nwW9h7t6922385MmTJjAw0Cxfvtw1tn//fiPJpKamFrmu/Px8ExUVZebMmeO2nuDgYPPOO+8YY4z55z//aSSZHTt2uOZ88sknxuFwmKNHjxa73pkzZ5qYmBgTFBRkoqOjzeTJk8vbMgAvxx4sAGXy0ksvKTY2VhMmTFBGRoYyMjIUExNT5NwHHnhANWrUKPF2JXbt2iWn06m4uDjXWMuWLdWoUSOlpqYWucyhQ4eUmZnptkx4eLi6du3qWiY1NVURERHq3Lmza05cXJyqVKmi7du3F7nev//975o3b57eeOMNHThwQKtWrdINN9xwRf0B8F5VPV0AAO8SHh6uoKAghYaGKioqqsS5Tz31lP7zP/+zwmrJzMxUUFCQIiIi3MYjIyOVmZlZ7DIFc4pbJjMzU/Xq1XN7vGrVqqpdu3ax6z1y5IiioqIUFxenwMBANWrUSDfddFN52gLgAwhYACpMvXr1CgUVXzV8+HC9+OKLatasmQYOHKhBgwZpyJAhqlqV/8wC/ohDhAAqTEUfIoyKitL58+d18uRJt/GsrKxi964VjF/6TcPfLhMVFaVjx465PX7hwgWdOHGi2PXGxMQoPT1dr732mqpVq6aHHnpIPXv2lNPpLE9rALwcAQtAmQUFBSkvL++y85566imlpaWVeLsSnTp1UmBgoNavX+8aS09P15EjRxQbG1vkMk2bNlVUVJTbMjk5Odq+fbtrmdjYWJ08eVK7du1yzdmwYYPy8/PVtWvXYuupVq2ahgwZopdfflkpKSlKTU3Vnj17rqhHAN6JfdcAyqxJkybavn27vv/+e9WoUUO1a9dWlSqF/1670kOEJ06c0JEjR/Tjjz9KuhiepIt7mKKiohQeHq7x48drypQpql27tsLCwjR58mTFxsbq5ptvdq2nZcuWSkpK0m233SaHw6GEhAQ9/fTTuu6669S0aVM9/vjjql+/vuLj4yVJrVq10sCBAzVhwgQtWLBATqdTkyZN0l133aX69esXWeuSJUuUl5enrl27KjQ0VH/9619VrVo1NW7cuNz9A/Binv4aIwDvk56ebm6++WZTrVq1Cr1Mw+LFiwtdEkKSmTlzpmvOr7/+ah566CFTq1YtExoaam677TaTkZHhth5JZvHixa77+fn55vHHHzeRkZEmODjY9O3b16Snp7stc/z4cTNy5EhTo0YNExYWZsaNG2dOnTpVbK0rV640Xbt2NWFhYaZ69erm5ptvNp999pmV1wGA93EYY4wH8x0AAIDP4RwsAAAAywhYAAAAlhGwAAAALCNgAQAAWEbAAgAAsIyABQAAYBkBCwAAwDICFgAAgGUELAAAAMsIWAAAAJYRsAAAACwjYAEAAFhGwAIAALCMgAUAAGAZAQsAAMAyAhYAAIBlBCwAAADLCFgAAACWEbAAAAAsI2ABAABYRsACAACwjIAFAABgGQELAADAMgIWAACAZQQsAAAAy/4/1rmLzG6ARFYAAAAASUVORK5CYII=' width=600.0/>\n",
       "            </div>\n",
       "        "
      ],
      "text/plain": [
       "Canvas(toolbar=Toolbar(toolitems=[('Home', 'Reset original view', 'home', 'home'), ('Back', 'Back to previous …"
      ]
     },
     "metadata": {},
     "output_type": "display_data"
    }
   ],
   "source": [
    "%%time\n",
    "animation(Rt, 3, t_vect, \"experimento_4\")"
   ]
  },
  {
   "cell_type": "code",
   "execution_count": 59,
   "id": "92658bb5",
   "metadata": {},
   "outputs": [
    {
     "name": "stdout",
     "output_type": "stream",
     "text": [
      "CPU times: total: 0 ns\n",
      "Wall time: 0 ns\n",
      "Dimensiones de la matríz K: (98, 98)\n",
      "Vector con velocidades iniciales: [0. 0. 0. 0. 0. 0. 0. 0. 0. 0. 0. 0. 0. 0. 0. 0. 0. 0. 0. 0. 0. 0. 0. 0.\n",
      " 0. 0. 0. 0. 0. 0. 0. 0. 0. 0. 0. 0. 0. 0. 0. 0. 0. 0. 0. 0. 0. 0. 0. 0.\n",
      " 1. 0. 1. 0. 0. 0. 0. 0. 0. 0. 0. 0. 0. 0. 0. 0. 0. 0. 0. 0. 0. 0. 0. 0.\n",
      " 0. 0. 0. 0. 0. 0. 0. 0. 0. 0. 0. 0. 0. 0. 0. 0. 0. 0. 0. 0. 0. 0. 0. 0.\n",
      " 0. 0.]\n",
      "Suma velocidades en x: 2.0\n",
      "Suma velocidades en y: 0.0\n"
     ]
    }
   ],
   "source": [
    "%time\n",
    "# Experimento 5 - n e [5,10]\n",
    "\n",
    "n = 7 # tamaño de la malla\n",
    "K = matrix_init(n)\n",
    "\n",
    "print(f\"Dimensiones de la matríz K: {K.shape}\")\n",
    "\n",
    "# Calcular valores y vectores propios\n",
    "eigvecs, omega = get_values(K)\n",
    "\n",
    "# Condiciones iniciales\n",
    "D = 2 * n * n\n",
    "R0 = np.zeros(D) # posiciones iniciales en equilibrio\n",
    "V0 = np.zeros(D)\n",
    "V0[2*n*n//2 + 1] = 1\n",
    "V0[2*n*n//2 - 1] = 1\n",
    "\n",
    "print(f\"Vector con velocidades iniciales: {V0}\")\n",
    "\n",
    "vx_total = np.sum(V0[0::2])  # suma de las velocidades en x\n",
    "vy_total = np.sum(V0[1::2])  # suma de las velocidades en y\n",
    "\n",
    "print(\"Suma velocidades en x:\", vx_total)\n",
    "print(\"Suma velocidades en y:\", vy_total)\n",
    "\n",
    "# Vector de tiempos\n",
    "t_vect = np.linspace(0, 10, 500)"
   ]
  },
  {
   "cell_type": "code",
   "execution_count": 60,
   "id": "fa9703e3",
   "metadata": {},
   "outputs": [
    {
     "name": "stdout",
     "output_type": "stream",
     "text": [
      "forma del vector R(t): (500, 98)\n",
      "CPU times: total: 0 ns\n",
      "Wall time: 1.99 ms\n"
     ]
    }
   ],
   "source": [
    "%%time\n",
    "# Simular trayectoria\n",
    "Rt = simulate_trayectory(t_vect, R0, V0, eigvecs, omega)\n",
    "print(f\"forma del vector R(t): {Rt.shape}\")"
   ]
  },
  {
   "cell_type": "code",
   "execution_count": 65,
   "id": "f1cbca48",
   "metadata": {},
   "outputs": [
    {
     "name": "stderr",
     "output_type": "stream",
     "text": [
      "MovieWriter ffmpeg unavailable; using Pillow instead.\n"
     ]
    },
    {
     "name": "stdout",
     "output_type": "stream",
     "text": [
      "CPU times: total: 47 s\n",
      "Wall time: 50.3 s\n"
     ]
    },
    {
     "data": {
      "image/png": "[encoded data removed]",
      "text/plain": [
       "<Figure size 600x600 with 1 Axes>"
      ]
     },
     "metadata": {},
     "output_type": "display_data"
    }
   ],
   "source": [
    "%%time\n",
    "animation(Rt, 7, t_vect, \"experimento_5\", margin=3)"
   ]
  },
  {
   "cell_type": "code",
   "execution_count": null,
   "id": "a041f773",
   "metadata": {},
   "outputs": [
    {
     "name": "stdout",
     "output_type": "stream",
     "text": [
      "CPU times: total: 0 ns\n",
      "Wall time: 0 ns\n",
      "Dimensiones de la matríz K: (6050, 6050)\n"
     ]
    }
   ],
   "source": [
    "%time\n",
    "# Experimento 6 - n e [50,100]\n",
    "\n",
    "n = 55 # tamaño de la malla\n",
    "K = matrix_init(n)\n",
    "\n",
    "print(f\"Dimensiones de la matríz K: {K.shape}\")\n",
    "\n",
    "# Calcular valores y vectores propios\n",
    "eigvecs, omega = get_values(K)\n",
    "\n",
    "# Condiciones iniciales\n",
    "D = 2 * n * n\n",
    "R0 = np.zeros(D) # posiciones iniciales en equilibrio\n",
    "V0 = generate_v0(55, amp=0.5)\n",
    "\n",
    "\n",
    "print(f\"Vector con velocidades iniciales: {V0}\")\n",
    "\n",
    "vx_total = np.sum(V0[0::2])  # suma de las velocidades en x\n",
    "vy_total = np.sum(V0[1::2])  # suma de las velocidades en y\n",
    "\n",
    "print(\"Suma velocidades en x:\", vx_total)\n",
    "print(\"Suma velocidades en y:\", vy_total)\n",
    "\n",
    "# Vector de tiempos\n",
    "t_vect = np.linspace(0, 20, 600)"
   ]
  },
  {
   "cell_type": "code",
   "execution_count": null,
   "id": "00ca3de1",
   "metadata": {},
   "outputs": [],
   "source": [
    "%%time\n",
    "# Simular trayectoria\n",
    "Rt = simulate_trayectory(t_vect, R0, V0, eigvecs, omega)\n",
    "print(f\"forma del vector R(t): {Rt.shape}\")"
   ]
  },
  {
   "cell_type": "code",
   "execution_count": null,
   "id": "9927df56",
   "metadata": {},
   "outputs": [],
   "source": [
    "%%time\n",
    "animation(Rt, 51, t_vect, \"experimento_6\", margin=5)"
   ]
  }
 ],
 "metadata": {
  "kernelspec": {
   "display_name": "Python 3",
   "language": "python",
   "name": "python3"
  },
  "language_info": {
   "codemirror_mode": {
    "name": "ipython",
    "version": 3
   },
   "file_extension": ".py",
   "mimetype": "text/x-python",
   "name": "python",
   "nbconvert_exporter": "python",
   "pygments_lexer": "ipython3",
   "version": "3.10.0"
  }
 },
 "nbformat": 4,
 "nbformat_minor": 5
}
